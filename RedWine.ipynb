{
 "cells": [
  {
   "cell_type": "code",
   "execution_count": 1,
   "id": "92aedcb7-c279-416d-a7eb-7ac44a050f50",
   "metadata": {},
   "outputs": [],
   "source": [
    "# Must be included at the beginning of each new notebook. Remember to change the app name.\n",
    "import pyspark\n",
    "from pyspark.sql import SparkSession\n",
    "import seaborn as sns\n",
    "import pandas as pd\n",
    "import numpy as np\n",
    "import seaborn as sns\n",
    "import matplotlib.pyplot as plt\n",
    "from pyod.models.abod import ABOD\n",
    "from pyod.models.cblof import CBLOF\n",
    "from pyspark.ml.stat import Correlation\n",
    "import warnings\n",
    "warnings.filterwarnings('ignore')"
   ]
  },
  {
   "cell_type": "code",
   "execution_count": 2,
   "id": "ca974594-2602-4169-b30a-c20806369cff",
   "metadata": {},
   "outputs": [
    {
     "name": "stderr",
     "output_type": "stream",
     "text": [
      "Setting default log level to \"WARN\".\n",
      "To adjust logging level use sc.setLogLevel(newLevel). For SparkR, use setLogLevel(newLevel).\n"
     ]
    },
    {
     "name": "stdout",
     "output_type": "stream",
     "text": [
      "22/10/10 23:09:09 WARN NativeCodeLoader: Unable to load native-hadoop library for your platform... using builtin-java classes where applicable\n",
      "22/10/10 23:09:10 WARN Utils: Service 'SparkUI' could not bind on port 4040. Attempting port 4041.\n"
     ]
    }
   ],
   "source": [
    "spark = SparkSession.builder.appName('red-wine-classification').getOrCreate()"
   ]
  },
  {
   "cell_type": "markdown",
   "id": "df5216a2-9090-47bc-a6c9-88e7e71d7b7b",
   "metadata": {},
   "source": [
    "## 1. Load data"
   ]
  },
  {
   "cell_type": "code",
   "execution_count": 3,
   "id": "083cb620-c0bf-40b2-816b-c4e0aee332b5",
   "metadata": {},
   "outputs": [
    {
     "name": "stdout",
     "output_type": "stream",
     "text": [
      "+-------------+----------------+-----------+--------------+-------------------+-------------------+--------------------+-------+----+---------+-------+-------+\n",
      "|fixed acidity|volatile acidity|citric acid|residual sugar|          chlorides|free sulfur dioxide|total sulfur dioxide|density|  pH|sulphates|alcohol|quality|\n",
      "+-------------+----------------+-----------+--------------+-------------------+-------------------+--------------------+-------+----+---------+-------+-------+\n",
      "|          7.4|             0.7|        0.0|           1.9|               null|               11.0|                34.0| 0.9978|3.51|     0.56|    9.4|      5|\n",
      "|          7.8|            0.88|        0.0|           2.6|               null|               25.0|                67.0| 0.9968| 3.2|     0.68|    9.8|      5|\n",
      "|          7.8|            0.76|       0.04|           2.3|              0.092|               15.0|                54.0|  0.997|3.26|     0.65|    9.8|      5|\n",
      "|         11.2|            0.28|       0.56|           1.9|              0.075|               17.0|                60.0|  0.998|3.16|     0.58|    9.8|      6|\n",
      "|          7.4|             0.7|        0.0|           1.9|              0.076|               11.0|                34.0| 0.9978|3.51|     0.56|    9.4|      5|\n",
      "|          7.4|            0.66|        0.0|           1.8|              0.075|               13.0|                40.0| 0.9978|3.51|     0.56|    9.4|      5|\n",
      "|          7.9|             0.6|       0.06|           1.6|              0.069|               15.0|                59.0| 0.9964| 3.3|     0.46|    9.4|      5|\n",
      "|          7.3|            0.65|        0.0|           1.2|              0.065|               15.0|                21.0| 0.9946|3.39|     0.47|   10.0|      7|\n",
      "|          7.8|            0.58|       0.02|           2.0|              0.073|                9.0|                18.0| 0.9968|3.36|     0.57|    9.5|      7|\n",
      "|          7.5|             0.5|       0.36|           6.1|              0.071|               17.0|               102.0| 0.9978|3.35|      0.8|   10.5|      5|\n",
      "|          6.7|            0.58|       0.08|           1.8|0.09699999999999999|               15.0|                65.0| 0.9959|3.28|     0.54|    9.2|      5|\n",
      "|          7.5|             0.5|       0.36|           6.1|              0.071|               17.0|               102.0| 0.9978|3.35|      0.8|   10.5|      5|\n",
      "|          5.6|           0.615|        0.0|           1.6|0.08900000000000001|               16.0|                59.0| 0.9943|3.58|     0.52|    9.9|      5|\n",
      "|          7.8|            0.61|       0.29|           1.6|              0.114|                9.0|                29.0| 0.9974|3.26|     1.56|    9.1|      5|\n",
      "|          8.9|            0.62|       0.18|           3.8|0.17600000000000002|               52.0|               145.0| 0.9986|3.16|     0.88|    9.2|      5|\n",
      "|          8.9|            0.62|       0.19|           3.9|               0.17|               51.0|               148.0| 0.9986|3.17|     0.93|    9.2|      5|\n",
      "|          8.5|            0.28|       0.56|           1.8|              0.092|               35.0|               103.0| 0.9969| 3.3|     0.75|   10.5|      7|\n",
      "|          8.1|            0.56|       0.28|           1.7|              0.368|               16.0|                56.0| 0.9968|3.11|     1.28|    9.3|      5|\n",
      "|          7.4|            0.59|       0.08|           4.4|              0.086|                6.0|                29.0| 0.9974|3.38|      0.5|    9.0|      4|\n",
      "|          7.9|            0.32|       0.51|           1.8|              0.341|               17.0|                56.0| 0.9969|3.04|     1.08|    9.2|      6|\n",
      "+-------------+----------------+-----------+--------------+-------------------+-------------------+--------------------+-------+----+---------+-------+-------+\n",
      "only showing top 20 rows\n",
      "\n"
     ]
    }
   ],
   "source": [
    "df = spark.read.csv('Datasets/winequality-red.csv', inferSchema=True, header=True)\n",
    "df.show()"
   ]
  },
  {
   "cell_type": "markdown",
   "id": "c5e31331-1e8d-491d-9184-c7650baee9db",
   "metadata": {},
   "source": [
    "## 2. Explore data"
   ]
  },
  {
   "cell_type": "code",
   "execution_count": 4,
   "id": "623eaf80-37d1-4244-8c6d-05e995614b9f",
   "metadata": {},
   "outputs": [
    {
     "name": "stdout",
     "output_type": "stream",
     "text": [
      "root\n",
      " |-- fixed acidity: double (nullable = true)\n",
      " |-- volatile acidity: double (nullable = true)\n",
      " |-- citric acid: double (nullable = true)\n",
      " |-- residual sugar: double (nullable = true)\n",
      " |-- chlorides: double (nullable = true)\n",
      " |-- free sulfur dioxide: double (nullable = true)\n",
      " |-- total sulfur dioxide: double (nullable = true)\n",
      " |-- density: double (nullable = true)\n",
      " |-- pH: double (nullable = true)\n",
      " |-- sulphates: double (nullable = true)\n",
      " |-- alcohol: double (nullable = true)\n",
      " |-- quality: integer (nullable = true)\n",
      "\n"
     ]
    }
   ],
   "source": [
    "# Get the data schema.\n",
    "df.printSchema()"
   ]
  },
  {
   "cell_type": "code",
   "execution_count": 5,
   "id": "3ab4d353-39c8-4f2d-b869-cf912ad7d859",
   "metadata": {},
   "outputs": [
    {
     "data": {
      "text/html": [
       "<div>\n",
       "<style scoped>\n",
       "    .dataframe tbody tr th:only-of-type {\n",
       "        vertical-align: middle;\n",
       "    }\n",
       "\n",
       "    .dataframe tbody tr th {\n",
       "        vertical-align: top;\n",
       "    }\n",
       "\n",
       "    .dataframe thead th {\n",
       "        text-align: right;\n",
       "    }\n",
       "</style>\n",
       "<table border=\"1\" class=\"dataframe\">\n",
       "  <thead>\n",
       "    <tr style=\"text-align: right;\">\n",
       "      <th></th>\n",
       "      <th>count</th>\n",
       "      <th>mean</th>\n",
       "      <th>std</th>\n",
       "      <th>min</th>\n",
       "      <th>25%</th>\n",
       "      <th>50%</th>\n",
       "      <th>75%</th>\n",
       "      <th>max</th>\n",
       "    </tr>\n",
       "  </thead>\n",
       "  <tbody>\n",
       "    <tr>\n",
       "      <th>fixed acidity</th>\n",
       "      <td>1599.0</td>\n",
       "      <td>8.319637</td>\n",
       "      <td>1.741096</td>\n",
       "      <td>4.60000</td>\n",
       "      <td>7.1000</td>\n",
       "      <td>7.90000</td>\n",
       "      <td>9.200000</td>\n",
       "      <td>15.90000</td>\n",
       "    </tr>\n",
       "    <tr>\n",
       "      <th>volatile acidity</th>\n",
       "      <td>1599.0</td>\n",
       "      <td>0.527821</td>\n",
       "      <td>0.179060</td>\n",
       "      <td>0.12000</td>\n",
       "      <td>0.3900</td>\n",
       "      <td>0.52000</td>\n",
       "      <td>0.640000</td>\n",
       "      <td>1.58000</td>\n",
       "    </tr>\n",
       "    <tr>\n",
       "      <th>citric acid</th>\n",
       "      <td>1599.0</td>\n",
       "      <td>0.270976</td>\n",
       "      <td>0.194801</td>\n",
       "      <td>0.00000</td>\n",
       "      <td>0.0900</td>\n",
       "      <td>0.26000</td>\n",
       "      <td>0.420000</td>\n",
       "      <td>1.00000</td>\n",
       "    </tr>\n",
       "    <tr>\n",
       "      <th>residual sugar</th>\n",
       "      <td>1599.0</td>\n",
       "      <td>2.538806</td>\n",
       "      <td>1.409928</td>\n",
       "      <td>0.90000</td>\n",
       "      <td>1.9000</td>\n",
       "      <td>2.20000</td>\n",
       "      <td>2.600000</td>\n",
       "      <td>15.50000</td>\n",
       "    </tr>\n",
       "    <tr>\n",
       "      <th>chlorides</th>\n",
       "      <td>1597.0</td>\n",
       "      <td>0.087467</td>\n",
       "      <td>0.047093</td>\n",
       "      <td>0.01200</td>\n",
       "      <td>0.0700</td>\n",
       "      <td>0.07900</td>\n",
       "      <td>0.090000</td>\n",
       "      <td>0.61100</td>\n",
       "    </tr>\n",
       "    <tr>\n",
       "      <th>free sulfur dioxide</th>\n",
       "      <td>1599.0</td>\n",
       "      <td>15.874922</td>\n",
       "      <td>10.460157</td>\n",
       "      <td>1.00000</td>\n",
       "      <td>7.0000</td>\n",
       "      <td>14.00000</td>\n",
       "      <td>21.000000</td>\n",
       "      <td>72.00000</td>\n",
       "    </tr>\n",
       "    <tr>\n",
       "      <th>total sulfur dioxide</th>\n",
       "      <td>1599.0</td>\n",
       "      <td>46.467792</td>\n",
       "      <td>32.895324</td>\n",
       "      <td>6.00000</td>\n",
       "      <td>22.0000</td>\n",
       "      <td>38.00000</td>\n",
       "      <td>62.000000</td>\n",
       "      <td>289.00000</td>\n",
       "    </tr>\n",
       "    <tr>\n",
       "      <th>density</th>\n",
       "      <td>1599.0</td>\n",
       "      <td>0.996747</td>\n",
       "      <td>0.001887</td>\n",
       "      <td>0.99007</td>\n",
       "      <td>0.9956</td>\n",
       "      <td>0.99675</td>\n",
       "      <td>0.997835</td>\n",
       "      <td>1.00369</td>\n",
       "    </tr>\n",
       "    <tr>\n",
       "      <th>pH</th>\n",
       "      <td>1599.0</td>\n",
       "      <td>3.311113</td>\n",
       "      <td>0.154386</td>\n",
       "      <td>2.74000</td>\n",
       "      <td>3.2100</td>\n",
       "      <td>3.31000</td>\n",
       "      <td>3.400000</td>\n",
       "      <td>4.01000</td>\n",
       "    </tr>\n",
       "    <tr>\n",
       "      <th>sulphates</th>\n",
       "      <td>1599.0</td>\n",
       "      <td>0.658149</td>\n",
       "      <td>0.169507</td>\n",
       "      <td>0.33000</td>\n",
       "      <td>0.5500</td>\n",
       "      <td>0.62000</td>\n",
       "      <td>0.730000</td>\n",
       "      <td>2.00000</td>\n",
       "    </tr>\n",
       "    <tr>\n",
       "      <th>alcohol</th>\n",
       "      <td>1599.0</td>\n",
       "      <td>10.422983</td>\n",
       "      <td>1.065668</td>\n",
       "      <td>8.40000</td>\n",
       "      <td>9.5000</td>\n",
       "      <td>10.20000</td>\n",
       "      <td>11.100000</td>\n",
       "      <td>14.90000</td>\n",
       "    </tr>\n",
       "    <tr>\n",
       "      <th>quality</th>\n",
       "      <td>1599.0</td>\n",
       "      <td>5.636023</td>\n",
       "      <td>0.807569</td>\n",
       "      <td>3.00000</td>\n",
       "      <td>5.0000</td>\n",
       "      <td>6.00000</td>\n",
       "      <td>6.000000</td>\n",
       "      <td>8.00000</td>\n",
       "    </tr>\n",
       "  </tbody>\n",
       "</table>\n",
       "</div>"
      ],
      "text/plain": [
       "                       count       mean        std      min      25%  \\\n",
       "fixed acidity         1599.0   8.319637   1.741096  4.60000   7.1000   \n",
       "volatile acidity      1599.0   0.527821   0.179060  0.12000   0.3900   \n",
       "citric acid           1599.0   0.270976   0.194801  0.00000   0.0900   \n",
       "residual sugar        1599.0   2.538806   1.409928  0.90000   1.9000   \n",
       "chlorides             1597.0   0.087467   0.047093  0.01200   0.0700   \n",
       "free sulfur dioxide   1599.0  15.874922  10.460157  1.00000   7.0000   \n",
       "total sulfur dioxide  1599.0  46.467792  32.895324  6.00000  22.0000   \n",
       "density               1599.0   0.996747   0.001887  0.99007   0.9956   \n",
       "pH                    1599.0   3.311113   0.154386  2.74000   3.2100   \n",
       "sulphates             1599.0   0.658149   0.169507  0.33000   0.5500   \n",
       "alcohol               1599.0  10.422983   1.065668  8.40000   9.5000   \n",
       "quality               1599.0   5.636023   0.807569  3.00000   5.0000   \n",
       "\n",
       "                           50%        75%        max  \n",
       "fixed acidity          7.90000   9.200000   15.90000  \n",
       "volatile acidity       0.52000   0.640000    1.58000  \n",
       "citric acid            0.26000   0.420000    1.00000  \n",
       "residual sugar         2.20000   2.600000   15.50000  \n",
       "chlorides              0.07900   0.090000    0.61100  \n",
       "free sulfur dioxide   14.00000  21.000000   72.00000  \n",
       "total sulfur dioxide  38.00000  62.000000  289.00000  \n",
       "density                0.99675   0.997835    1.00369  \n",
       "pH                     3.31000   3.400000    4.01000  \n",
       "sulphates              0.62000   0.730000    2.00000  \n",
       "alcohol               10.20000  11.100000   14.90000  \n",
       "quality                6.00000   6.000000    8.00000  "
      ]
     },
     "execution_count": 5,
     "metadata": {},
     "output_type": "execute_result"
    }
   ],
   "source": [
    "df.toPandas().describe().transpose()"
   ]
  },
  {
   "cell_type": "markdown",
   "id": "f050b7b8-e2b3-422d-8fa0-500293b0e30a",
   "metadata": {},
   "source": [
    "### 2.1 Feature Correlation"
   ]
  },
  {
   "cell_type": "code",
   "execution_count": 6,
   "id": "93ee5b86-38a1-4070-8dc6-2f74045bb9e4",
   "metadata": {},
   "outputs": [
    {
     "data": {
      "text/plain": [
       "<AxesSubplot:>"
      ]
     },
     "execution_count": 6,
     "metadata": {},
     "output_type": "execute_result"
    },
    {
     "data": {
      "image/png": "[encoded data removed]",
      "text/plain": [
       "<Figure size 432x288 with 2 Axes>"
      ]
     },
     "metadata": {
      "needs_background": "light"
     },
     "output_type": "display_data"
    }
   ],
   "source": [
    "# sns.set(rc={'figure.figsize':(12,10)})\n",
    "pearsonCorr = df.toPandas().iloc[:, : 11].corr()\n",
    "sns.heatmap(pearsonCorr, annot=True)"
   ]
  },
  {
   "cell_type": "markdown",
   "id": "49bc0184-9ac7-4850-a672-09d3e0a1415c",
   "metadata": {},
   "source": [
    "### 2.2 Count Missing values"
   ]
  },
  {
   "cell_type": "code",
   "execution_count": 7,
   "id": "816acd54-ae39-46ba-8270-d704f180d892",
   "metadata": {},
   "outputs": [
    {
     "name": "stdout",
     "output_type": "stream",
     "text": [
      "Missing values:\n",
      "+-------------+----------------+-----------+--------------+---------+-------------------+--------------------+-------+---+---------+-------+-------+\n",
      "|fixed acidity|volatile acidity|citric acid|residual sugar|chlorides|free sulfur dioxide|total sulfur dioxide|density| pH|sulphates|alcohol|quality|\n",
      "+-------------+----------------+-----------+--------------+---------+-------------------+--------------------+-------+---+---------+-------+-------+\n",
      "|            0|               0|          0|             0|        2|                  0|                   0|      0|  0|        0|      0|      0|\n",
      "+-------------+----------------+-----------+--------------+---------+-------------------+--------------------+-------+---+---------+-------+-------+\n",
      "\n"
     ]
    }
   ],
   "source": [
    "# Find Count of Null, None, NaN of All DataFrame Columns\n",
    "from pyspark.sql.functions import col,isnan, when, count\n",
    "print(\"Missing values:\")\n",
    "df.select([count(when(isnan(c) | col(c).isNull(), c)).alias(c) for c in df.columns]).show()"
   ]
  },
  {
   "cell_type": "markdown",
   "id": "977a91c3-6fd8-427f-99b8-44b05a6fcfcd",
   "metadata": {},
   "source": [
    "### 2.3 Print Boxplot for each feature"
   ]
  },
  {
   "cell_type": "code",
   "execution_count": 8,
   "id": "ca5a0c93-b108-4893-9be1-60cac8280120",
   "metadata": {},
   "outputs": [
    {
     "data": {
      "text/plain": [
       "<AxesSubplot:xlabel='fixed acidity'>"
      ]
     },
     "execution_count": 8,
     "metadata": {},
     "output_type": "execute_result"
    },
    {
     "data": {
      "image/png": "[encoded data removed]",
      "text/plain": [
       "<Figure size 432x288 with 1 Axes>"
      ]
     },
     "metadata": {
      "needs_background": "light"
     },
     "output_type": "display_data"
    }
   ],
   "source": [
    "sns.boxplot(x=df.toPandas()['fixed acidity'])"
   ]
  },
  {
   "cell_type": "markdown",
   "id": "a305c6f3-3d91-42a3-b096-340793e93892",
   "metadata": {},
   "source": [
    "## 3. Data Preparation"
   ]
  },
  {
   "cell_type": "markdown",
   "id": "9483067f-1235-417e-90a0-10e041f859a5",
   "metadata": {},
   "source": [
    "### 3.1 Detect and remove outliers"
   ]
  },
  {
   "cell_type": "code",
   "execution_count": 9,
   "id": "800b42ad-4c55-4152-a1db-4d96e8767bad",
   "metadata": {},
   "outputs": [
    {
     "data": {
      "image/png": "[encoded data removed]",
      "text/plain": [
       "<Figure size 432x288 with 1 Axes>"
      ]
     },
     "metadata": {
      "needs_background": "light"
     },
     "output_type": "display_data"
    }
   ],
   "source": [
    "# Detect outliers by using CBLOF algorithmn\n",
    "dfp = df.toPandas()\n",
    "cblof_clf = CBLOF(contamination=0.03,check_estimator=False, random_state=1)\n",
    "cblof_clf.fit(dfp[['density', 'sulphates']])\n",
    "dfp['CBLOF_outlier'] = cblof_clf.labels_\n",
    "# Visulise outliers\n",
    "sns.scatterplot(data=dfp, x='density', y='sulphates', hue='CBLOF_outlier')\n",
    "# Remove outliers\n",
    "dfp = dfp[dfp['CBLOF_outlier']==0]\n",
    "dfp = dfp.drop(['CBLOF_outlier'], axis=1)\n",
    "df=spark.createDataFrame(dfp) "
   ]
  },
  {
   "cell_type": "code",
   "execution_count": 10,
   "id": "da012521-c72d-4028-80d7-23b9cdaa9ecf",
   "metadata": {},
   "outputs": [
    {
     "data": {
      "text/html": [
       "<div>\n",
       "<style scoped>\n",
       "    .dataframe tbody tr th:only-of-type {\n",
       "        vertical-align: middle;\n",
       "    }\n",
       "\n",
       "    .dataframe tbody tr th {\n",
       "        vertical-align: top;\n",
       "    }\n",
       "\n",
       "    .dataframe thead th {\n",
       "        text-align: right;\n",
       "    }\n",
       "</style>\n",
       "<table border=\"1\" class=\"dataframe\">\n",
       "  <thead>\n",
       "    <tr style=\"text-align: right;\">\n",
       "      <th></th>\n",
       "      <th>fixed acidity</th>\n",
       "      <th>volatile acidity</th>\n",
       "      <th>citric acid</th>\n",
       "      <th>residual sugar</th>\n",
       "      <th>chlorides</th>\n",
       "      <th>free sulfur dioxide</th>\n",
       "      <th>total sulfur dioxide</th>\n",
       "      <th>density</th>\n",
       "      <th>pH</th>\n",
       "      <th>sulphates</th>\n",
       "      <th>alcohol</th>\n",
       "      <th>quality</th>\n",
       "    </tr>\n",
       "  </thead>\n",
       "  <tbody>\n",
       "    <tr>\n",
       "      <th>0</th>\n",
       "      <td>7.4</td>\n",
       "      <td>0.70</td>\n",
       "      <td>0.00</td>\n",
       "      <td>1.9</td>\n",
       "      <td>NaN</td>\n",
       "      <td>11.0</td>\n",
       "      <td>34.0</td>\n",
       "      <td>0.9978</td>\n",
       "      <td>3.51</td>\n",
       "      <td>0.56</td>\n",
       "      <td>9.4</td>\n",
       "      <td>5</td>\n",
       "    </tr>\n",
       "    <tr>\n",
       "      <th>1</th>\n",
       "      <td>7.8</td>\n",
       "      <td>0.88</td>\n",
       "      <td>0.00</td>\n",
       "      <td>2.6</td>\n",
       "      <td>NaN</td>\n",
       "      <td>25.0</td>\n",
       "      <td>67.0</td>\n",
       "      <td>0.9968</td>\n",
       "      <td>3.20</td>\n",
       "      <td>0.68</td>\n",
       "      <td>9.8</td>\n",
       "      <td>5</td>\n",
       "    </tr>\n",
       "    <tr>\n",
       "      <th>2</th>\n",
       "      <td>7.8</td>\n",
       "      <td>0.76</td>\n",
       "      <td>0.04</td>\n",
       "      <td>2.3</td>\n",
       "      <td>0.092</td>\n",
       "      <td>15.0</td>\n",
       "      <td>54.0</td>\n",
       "      <td>0.9970</td>\n",
       "      <td>3.26</td>\n",
       "      <td>0.65</td>\n",
       "      <td>9.8</td>\n",
       "      <td>5</td>\n",
       "    </tr>\n",
       "    <tr>\n",
       "      <th>3</th>\n",
       "      <td>11.2</td>\n",
       "      <td>0.28</td>\n",
       "      <td>0.56</td>\n",
       "      <td>1.9</td>\n",
       "      <td>0.075</td>\n",
       "      <td>17.0</td>\n",
       "      <td>60.0</td>\n",
       "      <td>0.9980</td>\n",
       "      <td>3.16</td>\n",
       "      <td>0.58</td>\n",
       "      <td>9.8</td>\n",
       "      <td>6</td>\n",
       "    </tr>\n",
       "    <tr>\n",
       "      <th>4</th>\n",
       "      <td>7.4</td>\n",
       "      <td>0.70</td>\n",
       "      <td>0.00</td>\n",
       "      <td>1.9</td>\n",
       "      <td>0.076</td>\n",
       "      <td>11.0</td>\n",
       "      <td>34.0</td>\n",
       "      <td>0.9978</td>\n",
       "      <td>3.51</td>\n",
       "      <td>0.56</td>\n",
       "      <td>9.4</td>\n",
       "      <td>5</td>\n",
       "    </tr>\n",
       "  </tbody>\n",
       "</table>\n",
       "</div>"
      ],
      "text/plain": [
       "   fixed acidity  volatile acidity  citric acid  residual sugar  chlorides  \\\n",
       "0            7.4              0.70         0.00             1.9        NaN   \n",
       "1            7.8              0.88         0.00             2.6        NaN   \n",
       "2            7.8              0.76         0.04             2.3      0.092   \n",
       "3           11.2              0.28         0.56             1.9      0.075   \n",
       "4            7.4              0.70         0.00             1.9      0.076   \n",
       "\n",
       "   free sulfur dioxide  total sulfur dioxide  density    pH  sulphates  \\\n",
       "0                 11.0                  34.0   0.9978  3.51       0.56   \n",
       "1                 25.0                  67.0   0.9968  3.20       0.68   \n",
       "2                 15.0                  54.0   0.9970  3.26       0.65   \n",
       "3                 17.0                  60.0   0.9980  3.16       0.58   \n",
       "4                 11.0                  34.0   0.9978  3.51       0.56   \n",
       "\n",
       "   alcohol  quality  \n",
       "0      9.4        5  \n",
       "1      9.8        5  \n",
       "2      9.8        5  \n",
       "3      9.8        6  \n",
       "4      9.4        5  "
      ]
     },
     "execution_count": 10,
     "metadata": {},
     "output_type": "execute_result"
    }
   ],
   "source": [
    "dfp.head()"
   ]
  },
  {
   "cell_type": "code",
   "execution_count": 11,
   "id": "56c8e130-8155-4119-b112-c4802be7c9e3",
   "metadata": {},
   "outputs": [
    {
     "name": "stderr",
     "output_type": "stream",
     "text": [
      "                                                                                \r"
     ]
    },
    {
     "data": {
      "text/html": [
       "<div>\n",
       "<style scoped>\n",
       "    .dataframe tbody tr th:only-of-type {\n",
       "        vertical-align: middle;\n",
       "    }\n",
       "\n",
       "    .dataframe tbody tr th {\n",
       "        vertical-align: top;\n",
       "    }\n",
       "\n",
       "    .dataframe thead th {\n",
       "        text-align: right;\n",
       "    }\n",
       "</style>\n",
       "<table border=\"1\" class=\"dataframe\">\n",
       "  <thead>\n",
       "    <tr style=\"text-align: right;\">\n",
       "      <th></th>\n",
       "      <th>count</th>\n",
       "      <th>mean</th>\n",
       "      <th>std</th>\n",
       "      <th>min</th>\n",
       "      <th>25%</th>\n",
       "      <th>50%</th>\n",
       "      <th>75%</th>\n",
       "      <th>max</th>\n",
       "    </tr>\n",
       "  </thead>\n",
       "  <tbody>\n",
       "    <tr>\n",
       "      <th>fixed acidity</th>\n",
       "      <td>1551.0</td>\n",
       "      <td>8.309478</td>\n",
       "      <td>1.752026</td>\n",
       "      <td>4.60000</td>\n",
       "      <td>7.10000</td>\n",
       "      <td>7.9000</td>\n",
       "      <td>9.200000</td>\n",
       "      <td>15.90000</td>\n",
       "    </tr>\n",
       "    <tr>\n",
       "      <th>volatile acidity</th>\n",
       "      <td>1551.0</td>\n",
       "      <td>0.528524</td>\n",
       "      <td>0.179451</td>\n",
       "      <td>0.12000</td>\n",
       "      <td>0.39000</td>\n",
       "      <td>0.5200</td>\n",
       "      <td>0.640000</td>\n",
       "      <td>1.58000</td>\n",
       "    </tr>\n",
       "    <tr>\n",
       "      <th>citric acid</th>\n",
       "      <td>1551.0</td>\n",
       "      <td>0.265622</td>\n",
       "      <td>0.192643</td>\n",
       "      <td>0.00000</td>\n",
       "      <td>0.09000</td>\n",
       "      <td>0.2500</td>\n",
       "      <td>0.420000</td>\n",
       "      <td>0.79000</td>\n",
       "    </tr>\n",
       "    <tr>\n",
       "      <th>residual sugar</th>\n",
       "      <td>1551.0</td>\n",
       "      <td>2.545293</td>\n",
       "      <td>1.418683</td>\n",
       "      <td>0.90000</td>\n",
       "      <td>1.90000</td>\n",
       "      <td>2.2000</td>\n",
       "      <td>2.600000</td>\n",
       "      <td>15.50000</td>\n",
       "    </tr>\n",
       "    <tr>\n",
       "      <th>chlorides</th>\n",
       "      <td>1549.0</td>\n",
       "      <td>0.083163</td>\n",
       "      <td>0.028310</td>\n",
       "      <td>0.01200</td>\n",
       "      <td>0.07000</td>\n",
       "      <td>0.0790</td>\n",
       "      <td>0.089000</td>\n",
       "      <td>0.38700</td>\n",
       "    </tr>\n",
       "    <tr>\n",
       "      <th>free sulfur dioxide</th>\n",
       "      <td>1551.0</td>\n",
       "      <td>15.867182</td>\n",
       "      <td>10.512992</td>\n",
       "      <td>1.00000</td>\n",
       "      <td>7.00000</td>\n",
       "      <td>13.0000</td>\n",
       "      <td>21.000000</td>\n",
       "      <td>72.00000</td>\n",
       "    </tr>\n",
       "    <tr>\n",
       "      <th>total sulfur dioxide</th>\n",
       "      <td>1551.0</td>\n",
       "      <td>45.881367</td>\n",
       "      <td>32.463753</td>\n",
       "      <td>6.00000</td>\n",
       "      <td>22.00000</td>\n",
       "      <td>37.0000</td>\n",
       "      <td>61.000000</td>\n",
       "      <td>289.00000</td>\n",
       "    </tr>\n",
       "    <tr>\n",
       "      <th>density</th>\n",
       "      <td>1551.0</td>\n",
       "      <td>0.996723</td>\n",
       "      <td>0.001897</td>\n",
       "      <td>0.99007</td>\n",
       "      <td>0.99557</td>\n",
       "      <td>0.9967</td>\n",
       "      <td>0.997825</td>\n",
       "      <td>1.00369</td>\n",
       "    </tr>\n",
       "    <tr>\n",
       "      <th>pH</th>\n",
       "      <td>1551.0</td>\n",
       "      <td>3.317485</td>\n",
       "      <td>0.150423</td>\n",
       "      <td>2.86000</td>\n",
       "      <td>3.21500</td>\n",
       "      <td>3.3100</td>\n",
       "      <td>3.400000</td>\n",
       "      <td>4.01000</td>\n",
       "    </tr>\n",
       "    <tr>\n",
       "      <th>sulphates</th>\n",
       "      <td>1551.0</td>\n",
       "      <td>0.639194</td>\n",
       "      <td>0.124946</td>\n",
       "      <td>0.33000</td>\n",
       "      <td>0.55000</td>\n",
       "      <td>0.6200</td>\n",
       "      <td>0.720000</td>\n",
       "      <td>1.05000</td>\n",
       "    </tr>\n",
       "    <tr>\n",
       "      <th>alcohol</th>\n",
       "      <td>1551.0</td>\n",
       "      <td>10.444584</td>\n",
       "      <td>1.067945</td>\n",
       "      <td>8.40000</td>\n",
       "      <td>9.50000</td>\n",
       "      <td>10.2000</td>\n",
       "      <td>11.100000</td>\n",
       "      <td>14.90000</td>\n",
       "    </tr>\n",
       "    <tr>\n",
       "      <th>quality</th>\n",
       "      <td>1551.0</td>\n",
       "      <td>5.641522</td>\n",
       "      <td>0.806700</td>\n",
       "      <td>3.00000</td>\n",
       "      <td>5.00000</td>\n",
       "      <td>6.0000</td>\n",
       "      <td>6.000000</td>\n",
       "      <td>8.00000</td>\n",
       "    </tr>\n",
       "  </tbody>\n",
       "</table>\n",
       "</div>"
      ],
      "text/plain": [
       "                       count       mean        std      min       25%  \\\n",
       "fixed acidity         1551.0   8.309478   1.752026  4.60000   7.10000   \n",
       "volatile acidity      1551.0   0.528524   0.179451  0.12000   0.39000   \n",
       "citric acid           1551.0   0.265622   0.192643  0.00000   0.09000   \n",
       "residual sugar        1551.0   2.545293   1.418683  0.90000   1.90000   \n",
       "chlorides             1549.0   0.083163   0.028310  0.01200   0.07000   \n",
       "free sulfur dioxide   1551.0  15.867182  10.512992  1.00000   7.00000   \n",
       "total sulfur dioxide  1551.0  45.881367  32.463753  6.00000  22.00000   \n",
       "density               1551.0   0.996723   0.001897  0.99007   0.99557   \n",
       "pH                    1551.0   3.317485   0.150423  2.86000   3.21500   \n",
       "sulphates             1551.0   0.639194   0.124946  0.33000   0.55000   \n",
       "alcohol               1551.0  10.444584   1.067945  8.40000   9.50000   \n",
       "quality               1551.0   5.641522   0.806700  3.00000   5.00000   \n",
       "\n",
       "                          50%        75%        max  \n",
       "fixed acidity          7.9000   9.200000   15.90000  \n",
       "volatile acidity       0.5200   0.640000    1.58000  \n",
       "citric acid            0.2500   0.420000    0.79000  \n",
       "residual sugar         2.2000   2.600000   15.50000  \n",
       "chlorides              0.0790   0.089000    0.38700  \n",
       "free sulfur dioxide   13.0000  21.000000   72.00000  \n",
       "total sulfur dioxide  37.0000  61.000000  289.00000  \n",
       "density                0.9967   0.997825    1.00369  \n",
       "pH                     3.3100   3.400000    4.01000  \n",
       "sulphates              0.6200   0.720000    1.05000  \n",
       "alcohol               10.2000  11.100000   14.90000  \n",
       "quality                6.0000   6.000000    8.00000  "
      ]
     },
     "execution_count": 11,
     "metadata": {},
     "output_type": "execute_result"
    }
   ],
   "source": [
    "df.toPandas().describe().transpose()"
   ]
  },
  {
   "cell_type": "markdown",
   "id": "1eadf4d4-0341-4cf6-82ab-e465625bb8ab",
   "metadata": {},
   "source": [
    "### 3.2 Impute missing values"
   ]
  },
  {
   "cell_type": "code",
   "execution_count": 12,
   "id": "fe03d4b3-bc65-4eae-a4e2-8cedc5d728c8",
   "metadata": {},
   "outputs": [
    {
     "name": "stdout",
     "output_type": "stream",
     "text": [
      "Missing value counts before imputation:\n",
      "+-------------+----------------+-----------+--------------+---------+-------------------+--------------------+-------+---+---------+-------+-------+\n",
      "|fixed acidity|volatile acidity|citric acid|residual sugar|chlorides|free sulfur dioxide|total sulfur dioxide|density| pH|sulphates|alcohol|quality|\n",
      "+-------------+----------------+-----------+--------------+---------+-------------------+--------------------+-------+---+---------+-------+-------+\n",
      "|            0|               0|          0|             0|        2|                  0|                   0|      0|  0|        0|      0|      0|\n",
      "+-------------+----------------+-----------+--------------+---------+-------------------+--------------------+-------+---+---------+-------+-------+\n",
      "\n",
      "Missing value counts after imputation:\n",
      "+-------------+----------------+-----------+--------------+---------+-------------------+--------------------+-------+---+---------+-------+-------+\n",
      "|fixed acidity|volatile acidity|citric acid|residual sugar|chlorides|free sulfur dioxide|total sulfur dioxide|density| pH|sulphates|alcohol|quality|\n",
      "+-------------+----------------+-----------+--------------+---------+-------------------+--------------------+-------+---+---------+-------+-------+\n",
      "|            0|               0|          0|             0|        0|                  0|                   0|      0|  0|        0|      0|      0|\n",
      "+-------------+----------------+-----------+--------------+---------+-------------------+--------------------+-------+---+---------+-------+-------+\n",
      "\n"
     ]
    }
   ],
   "source": [
    "from pyspark.ml.feature import Imputer\n",
    "imputer = Imputer(inputCol=\"chlorides\", outputCol=\"chlorides\")\n",
    "print(\"Missing value counts before imputation:\")\n",
    "df.select([count(when(isnan(c) | col(c).isNull(), c)).alias(c) for c in df.columns]).show()\n",
    "df = imputer.fit(df).transform(df)\n",
    "print(\"Missing value counts after imputation:\")\n",
    "df.select([count(when(isnan(c) | col(c).isNull(), c)).alias(c) for c in df.columns]).show()"
   ]
  },
  {
   "cell_type": "markdown",
   "id": "2fe7579c-973c-416e-874d-4f1956e82238",
   "metadata": {},
   "source": []
  },
  {
   "cell_type": "markdown",
   "id": "44be03c7-626f-4894-9ffe-ef187bd5b87d",
   "metadata": {},
   "source": [
    "### 3.3 Feature derivative"
   ]
  },
  {
   "cell_type": "code",
   "execution_count": 13,
   "id": "5fe61024-6581-4ae0-aaa1-ab1c99d1d169",
   "metadata": {},
   "outputs": [
    {
     "name": "stdout",
     "output_type": "stream",
     "text": [
      "The shape of feature matrix before feature derivative:  (1551, 11)\n",
      "The shape of feature matrix after feature derivative:  (1551, 67)\n"
     ]
    }
   ],
   "source": [
    "from sklearn.preprocessing import PolynomialFeatures\n",
    "df_feature = df.toPandas().drop(['quality'], axis=1)\n",
    "X_before = df_feature.to_numpy()\n",
    "print(\"The shape of feature matrix before feature derivative: \", X_before.shape)\n",
    "poly = PolynomialFeatures(interaction_only=True)\n",
    "X_after = poly.fit_transform(X_before)\n",
    "print(\"The shape of feature matrix after feature derivative: \", X_after.shape)"
   ]
  },
  {
   "cell_type": "markdown",
   "id": "1124a23e-4850-4930-a800-73504070040e",
   "metadata": {},
   "source": [
    "### 3.4 SMOTE oversampling"
   ]
  },
  {
   "cell_type": "code",
   "execution_count": 14,
   "id": "6aee186a-d178-47aa-9244-be6270c0ef46",
   "metadata": {},
   "outputs": [
    {
     "name": "stdout",
     "output_type": "stream",
     "text": [
      "data instances before SMOTE sampling:  1551\n",
      "data instances after SMOTE sampling:  3930\n"
     ]
    }
   ],
   "source": [
    "from imblearn.over_sampling import SMOTE\n",
    "col_names = df.toPandas().columns\n",
    "print(\"data instances before SMOTE sampling: \", len(df.toPandas()))\n",
    "df_y = df.toPandas()[['quality']]\n",
    "df_X = df.toPandas().drop(['quality'], axis=1)\n",
    "X = df_X.to_numpy()\n",
    "y = df_y.to_numpy()\n",
    "X_resampled, y_resampled = SMOTE().fit_resample(X, y)\n",
    "arr = np.concatenate([X_resampled, y_resampled.reshape(-1, 1)],axis=1)\n",
    "sampled_df = pd.DataFrame(arr, columns=col_names)\n",
    "print(\"data instances after SMOTE sampling: \", len(sampled_df))\n",
    "df=spark.createDataFrame(sampled_df) "
   ]
  },
  {
   "cell_type": "markdown",
   "id": "db3301ef-309b-4b8e-a396-1f8c856d7e83",
   "metadata": {},
   "source": [
    "### 3.5 Format the data after integration"
   ]
  },
  {
   "cell_type": "code",
   "execution_count": 15,
   "id": "2ccecb05-17ba-4c54-9a7e-480162c71256",
   "metadata": {},
   "outputs": [
    {
     "data": {
      "text/html": [
       "<div>\n",
       "<style scoped>\n",
       "    .dataframe tbody tr th:only-of-type {\n",
       "        vertical-align: middle;\n",
       "    }\n",
       "\n",
       "    .dataframe tbody tr th {\n",
       "        vertical-align: top;\n",
       "    }\n",
       "\n",
       "    .dataframe thead th {\n",
       "        text-align: right;\n",
       "    }\n",
       "</style>\n",
       "<table border=\"1\" class=\"dataframe\">\n",
       "  <thead>\n",
       "    <tr style=\"text-align: right;\">\n",
       "      <th></th>\n",
       "      <th>fixed acidity</th>\n",
       "      <th>volatile acidity</th>\n",
       "      <th>citric acid</th>\n",
       "      <th>residual sugar</th>\n",
       "      <th>chlorides</th>\n",
       "      <th>free sulfur dioxide</th>\n",
       "      <th>total sulfur dioxide</th>\n",
       "      <th>density</th>\n",
       "      <th>pH</th>\n",
       "      <th>sulphates</th>\n",
       "      <th>alcohol</th>\n",
       "      <th>quality</th>\n",
       "      <th>is_red_wine</th>\n",
       "    </tr>\n",
       "  </thead>\n",
       "  <tbody>\n",
       "    <tr>\n",
       "      <th>110</th>\n",
       "      <td>7.8</td>\n",
       "      <td>0.56</td>\n",
       "      <td>0.19</td>\n",
       "      <td>1.8</td>\n",
       "      <td>0.104</td>\n",
       "      <td>12.0</td>\n",
       "      <td>47.0</td>\n",
       "      <td>0.99640</td>\n",
       "      <td>3.19</td>\n",
       "      <td>0.93</td>\n",
       "      <td>9.5</td>\n",
       "      <td>5</td>\n",
       "      <td>1</td>\n",
       "    </tr>\n",
       "    <tr>\n",
       "      <th>1202</th>\n",
       "      <td>8.6</td>\n",
       "      <td>0.42</td>\n",
       "      <td>0.39</td>\n",
       "      <td>1.8</td>\n",
       "      <td>0.068</td>\n",
       "      <td>6.0</td>\n",
       "      <td>12.0</td>\n",
       "      <td>0.99516</td>\n",
       "      <td>3.35</td>\n",
       "      <td>0.69</td>\n",
       "      <td>11.7</td>\n",
       "      <td>8</td>\n",
       "      <td>0</td>\n",
       "    </tr>\n",
       "    <tr>\n",
       "      <th>892</th>\n",
       "      <td>10.1</td>\n",
       "      <td>0.45</td>\n",
       "      <td>0.23</td>\n",
       "      <td>1.9</td>\n",
       "      <td>0.082</td>\n",
       "      <td>10.0</td>\n",
       "      <td>18.0</td>\n",
       "      <td>0.99774</td>\n",
       "      <td>3.22</td>\n",
       "      <td>0.65</td>\n",
       "      <td>9.3</td>\n",
       "      <td>6</td>\n",
       "      <td>0</td>\n",
       "    </tr>\n",
       "    <tr>\n",
       "      <th>258</th>\n",
       "      <td>7.7</td>\n",
       "      <td>0.41</td>\n",
       "      <td>0.76</td>\n",
       "      <td>1.8</td>\n",
       "      <td>0.611</td>\n",
       "      <td>8.0</td>\n",
       "      <td>45.0</td>\n",
       "      <td>0.99680</td>\n",
       "      <td>3.06</td>\n",
       "      <td>1.26</td>\n",
       "      <td>9.4</td>\n",
       "      <td>5</td>\n",
       "      <td>0</td>\n",
       "    </tr>\n",
       "    <tr>\n",
       "      <th>560</th>\n",
       "      <td>12.7</td>\n",
       "      <td>0.60</td>\n",
       "      <td>0.49</td>\n",
       "      <td>2.8</td>\n",
       "      <td>0.075</td>\n",
       "      <td>5.0</td>\n",
       "      <td>19.0</td>\n",
       "      <td>0.99940</td>\n",
       "      <td>3.14</td>\n",
       "      <td>0.57</td>\n",
       "      <td>11.4</td>\n",
       "      <td>5</td>\n",
       "      <td>1</td>\n",
       "    </tr>\n",
       "  </tbody>\n",
       "</table>\n",
       "</div>"
      ],
      "text/plain": [
       "      fixed acidity  volatile acidity  citric acid  residual sugar  chlorides  \\\n",
       "110             7.8              0.56         0.19             1.8      0.104   \n",
       "1202            8.6              0.42         0.39             1.8      0.068   \n",
       "892            10.1              0.45         0.23             1.9      0.082   \n",
       "258             7.7              0.41         0.76             1.8      0.611   \n",
       "560            12.7              0.60         0.49             2.8      0.075   \n",
       "\n",
       "      free sulfur dioxide  total sulfur dioxide  density    pH  sulphates  \\\n",
       "110                  12.0                  47.0  0.99640  3.19       0.93   \n",
       "1202                  6.0                  12.0  0.99516  3.35       0.69   \n",
       "892                  10.0                  18.0  0.99774  3.22       0.65   \n",
       "258                   8.0                  45.0  0.99680  3.06       1.26   \n",
       "560                   5.0                  19.0  0.99940  3.14       0.57   \n",
       "\n",
       "      alcohol  quality  is_red_wine  \n",
       "110       9.5        5            1  \n",
       "1202     11.7        8            0  \n",
       "892       9.3        6            0  \n",
       "258       9.4        5            0  \n",
       "560      11.4        5            1  "
      ]
     },
     "execution_count": 15,
     "metadata": {},
     "output_type": "execute_result"
    }
   ],
   "source": [
    "df_red_wine = spark.read.csv('Datasets/winequality-red.csv', inferSchema=True, header=True)\n",
    "df_white_wine = spark.read.csv('Datasets/winequality-white.csv', inferSchema=True, header=True)\n",
    "dfp = df_red_wine.toPandas().append(df_white_wine.toPandas())\n",
    "red_wine_count = len(df_red_wine.toPandas())\n",
    "white_wine_count = len(df_white_wine.toPandas())\n",
    "dfp['is_red_wine'] = [1] * red_wine_count + [0] * white_wine_count\n",
    "df_combines = spark.createDataFrame(dfp)\n",
    "dfp.sample(n=5, random_state=1)"
   ]
  },
  {
   "cell_type": "markdown",
   "id": "cd0ac6e1-7ebf-4019-ad19-3a645e227340",
   "metadata": {},
   "source": [
    "## 4. Data Transformation"
   ]
  },
  {
   "cell_type": "markdown",
   "id": "59e6b0ac-945f-4a0b-9b59-658636913f14",
   "metadata": {},
   "source": [
    "### 4.1 Feature selection"
   ]
  },
  {
   "cell_type": "code",
   "execution_count": 16,
   "id": "a1d0ccc4-6eda-47d9-8e2a-4ea913333cf8",
   "metadata": {},
   "outputs": [],
   "source": [
    "from pyspark.ml.feature import VectorAssembler\n",
    "featureCols = list(df.toPandas().columns[:-1])\n",
    "assembler = VectorAssembler(inputCols=featureCols, outputCol=\"features\")"
   ]
  },
  {
   "cell_type": "code",
   "execution_count": 17,
   "id": "b136f02c-e442-4988-a568-efd6d1153647",
   "metadata": {},
   "outputs": [
    {
     "name": "stdout",
     "output_type": "stream",
     "text": [
      "+-------------+----------------+-----------+--------------+-------------------+-------------------+--------------------+-------+----+---------+-------+-------+--------------------+\n",
      "|fixed acidity|volatile acidity|citric acid|residual sugar|          chlorides|free sulfur dioxide|total sulfur dioxide|density|  pH|sulphates|alcohol|quality|            features|\n",
      "+-------------+----------------+-----------+--------------+-------------------+-------------------+--------------------+-------+----+---------+-------+-------+--------------------+\n",
      "|          7.4|             0.7|        0.0|           1.9|0.08316333118140737|               11.0|                34.0| 0.9978|3.51|     0.56|    9.4|    5.0|[7.4,0.7,0.0,1.9,...|\n",
      "|          7.8|            0.88|        0.0|           2.6|0.08316333118140737|               25.0|                67.0| 0.9968| 3.2|     0.68|    9.8|    5.0|[7.8,0.88,0.0,2.6...|\n",
      "|          7.8|            0.76|       0.04|           2.3|              0.092|               15.0|                54.0|  0.997|3.26|     0.65|    9.8|    5.0|[7.8,0.76,0.04,2....|\n",
      "|         11.2|            0.28|       0.56|           1.9|              0.075|               17.0|                60.0|  0.998|3.16|     0.58|    9.8|    6.0|[11.2,0.28,0.56,1...|\n",
      "|          7.4|             0.7|        0.0|           1.9|              0.076|               11.0|                34.0| 0.9978|3.51|     0.56|    9.4|    5.0|[7.4,0.7,0.0,1.9,...|\n",
      "|          7.4|            0.66|        0.0|           1.8|              0.075|               13.0|                40.0| 0.9978|3.51|     0.56|    9.4|    5.0|[7.4,0.66,0.0,1.8...|\n",
      "|          7.9|             0.6|       0.06|           1.6|              0.069|               15.0|                59.0| 0.9964| 3.3|     0.46|    9.4|    5.0|[7.9,0.6,0.06,1.6...|\n",
      "|          7.3|            0.65|        0.0|           1.2|              0.065|               15.0|                21.0| 0.9946|3.39|     0.47|   10.0|    7.0|[7.3,0.65,0.0,1.2...|\n",
      "|          7.8|            0.58|       0.02|           2.0|              0.073|                9.0|                18.0| 0.9968|3.36|     0.57|    9.5|    7.0|[7.8,0.58,0.02,2....|\n",
      "|          7.5|             0.5|       0.36|           6.1|              0.071|               17.0|               102.0| 0.9978|3.35|      0.8|   10.5|    5.0|[7.5,0.5,0.36,6.1...|\n",
      "|          6.7|            0.58|       0.08|           1.8|0.09699999999999999|               15.0|                65.0| 0.9959|3.28|     0.54|    9.2|    5.0|[6.7,0.58,0.08,1....|\n",
      "|          7.5|             0.5|       0.36|           6.1|              0.071|               17.0|               102.0| 0.9978|3.35|      0.8|   10.5|    5.0|[7.5,0.5,0.36,6.1...|\n",
      "|          5.6|           0.615|        0.0|           1.6|0.08900000000000001|               16.0|                59.0| 0.9943|3.58|     0.52|    9.9|    5.0|[5.6,0.615,0.0,1....|\n",
      "|          8.9|            0.62|       0.18|           3.8|0.17600000000000002|               52.0|               145.0| 0.9986|3.16|     0.88|    9.2|    5.0|[8.9,0.62,0.18,3....|\n",
      "|          8.9|            0.62|       0.19|           3.9|               0.17|               51.0|               148.0| 0.9986|3.17|     0.93|    9.2|    5.0|[8.9,0.62,0.19,3....|\n",
      "|          8.5|            0.28|       0.56|           1.8|              0.092|               35.0|               103.0| 0.9969| 3.3|     0.75|   10.5|    7.0|[8.5,0.28,0.56,1....|\n",
      "|          7.4|            0.59|       0.08|           4.4|              0.086|                6.0|                29.0| 0.9974|3.38|      0.5|    9.0|    4.0|[7.4,0.59,0.08,4....|\n",
      "|          8.9|            0.22|       0.48|           1.8|              0.077|               29.0|                60.0| 0.9968|3.39|     0.53|    9.4|    6.0|[8.9,0.22,0.48,1....|\n",
      "|          7.6|            0.39|       0.31|           2.3|0.08199999999999999|               23.0|                71.0| 0.9982|3.52|     0.65|    9.7|    5.0|[7.6,0.39,0.31,2....|\n",
      "|          7.9|            0.43|       0.21|           1.6|              0.106|               10.0|                37.0| 0.9966|3.17|     0.91|    9.5|    5.0|[7.9,0.43,0.21,1....|\n",
      "+-------------+----------------+-----------+--------------+-------------------+-------------------+--------------------+-------+----+---------+-------+-------+--------------------+\n",
      "only showing top 20 rows\n",
      "\n"
     ]
    }
   ],
   "source": [
    "df = assembler.transform(df)\n",
    "df.show()"
   ]
  },
  {
   "cell_type": "code",
   "execution_count": 18,
   "id": "a7c56e2e-1007-443c-9c59-31c0e8193c48",
   "metadata": {},
   "outputs": [
    {
     "data": {
      "image/png": "[encoded data removed]",
      "text/plain": [
       "<Figure size 576x432 with 1 Axes>"
      ]
     },
     "metadata": {
      "needs_background": "light"
     },
     "output_type": "display_data"
    }
   ],
   "source": [
    "# visulisation\n",
    "from sklearn.feature_selection import SelectKBest\n",
    "from sklearn.feature_selection import chi2\n",
    "df_y = df[['quality']]\n",
    "df_X = df.drop('quality').drop('features')\n",
    "X = df_X.toPandas().to_numpy()\n",
    "y = df_y.toPandas().to_numpy()\n",
    "sk = SelectKBest(chi2)\n",
    "X_new = sk.fit_transform(X, y)\n",
    "scores = list(sk.scores_)\n",
    "data = pd.DataFrame({'feature':  df_X.columns, 'importance': scores})\n",
    "plt.figure(figsize=(8,6))\n",
    "g = sns.barplot(data=data, x=\"feature\", y=\"importance\")\n",
    "g.set_xticklabels(g.get_xticklabels(), rotation=40, ha=\"right\")\n",
    "g.set_yscale(\"log\")\n",
    "plt.tight_layout()\n",
    "plt.show()"
   ]
  },
  {
   "cell_type": "code",
   "execution_count": 19,
   "id": "7ea87288-d0c1-48c7-92dd-1f14eab99d34",
   "metadata": {},
   "outputs": [
    {
     "name": "stdout",
     "output_type": "stream",
     "text": [
      "+-------------+----------------+-----------+--------------+-------------------+-------------------+--------------------+-------+----+---------+-------+-------+--------------------+--------------------+\n",
      "|fixed acidity|volatile acidity|citric acid|residual sugar|          chlorides|free sulfur dioxide|total sulfur dioxide|density|  pH|sulphates|alcohol|quality|            features|    selectedFeatures|\n",
      "+-------------+----------------+-----------+--------------+-------------------+-------------------+--------------------+-------+----+---------+-------+-------+--------------------+--------------------+\n",
      "|          7.4|             0.7|        0.0|           1.9|0.08316333118140737|               11.0|                34.0| 0.9978|3.51|     0.56|    9.4|    5.0|[7.4,0.7,0.0,1.9,...|[7.4,0.7,0.0,1.9,...|\n",
      "|          7.8|            0.88|        0.0|           2.6|0.08316333118140737|               25.0|                67.0| 0.9968| 3.2|     0.68|    9.8|    5.0|[7.8,0.88,0.0,2.6...|[7.8,0.88,0.0,2.6...|\n",
      "|          7.8|            0.76|       0.04|           2.3|              0.092|               15.0|                54.0|  0.997|3.26|     0.65|    9.8|    5.0|[7.8,0.76,0.04,2....|[7.8,0.76,0.04,2....|\n",
      "|         11.2|            0.28|       0.56|           1.9|              0.075|               17.0|                60.0|  0.998|3.16|     0.58|    9.8|    6.0|[11.2,0.28,0.56,1...|[11.2,0.28,0.56,1...|\n",
      "|          7.4|             0.7|        0.0|           1.9|              0.076|               11.0|                34.0| 0.9978|3.51|     0.56|    9.4|    5.0|[7.4,0.7,0.0,1.9,...|[7.4,0.7,0.0,1.9,...|\n",
      "|          7.4|            0.66|        0.0|           1.8|              0.075|               13.0|                40.0| 0.9978|3.51|     0.56|    9.4|    5.0|[7.4,0.66,0.0,1.8...|[7.4,0.66,0.0,1.8...|\n",
      "|          7.9|             0.6|       0.06|           1.6|              0.069|               15.0|                59.0| 0.9964| 3.3|     0.46|    9.4|    5.0|[7.9,0.6,0.06,1.6...|[7.9,0.6,0.06,1.6...|\n",
      "|          7.3|            0.65|        0.0|           1.2|              0.065|               15.0|                21.0| 0.9946|3.39|     0.47|   10.0|    7.0|[7.3,0.65,0.0,1.2...|[7.3,0.65,0.0,1.2...|\n",
      "|          7.8|            0.58|       0.02|           2.0|              0.073|                9.0|                18.0| 0.9968|3.36|     0.57|    9.5|    7.0|[7.8,0.58,0.02,2....|[7.8,0.58,0.02,2....|\n",
      "|          7.5|             0.5|       0.36|           6.1|              0.071|               17.0|               102.0| 0.9978|3.35|      0.8|   10.5|    5.0|[7.5,0.5,0.36,6.1...|[7.5,0.5,0.36,6.1...|\n",
      "|          6.7|            0.58|       0.08|           1.8|0.09699999999999999|               15.0|                65.0| 0.9959|3.28|     0.54|    9.2|    5.0|[6.7,0.58,0.08,1....|[6.7,0.58,0.08,1....|\n",
      "|          7.5|             0.5|       0.36|           6.1|              0.071|               17.0|               102.0| 0.9978|3.35|      0.8|   10.5|    5.0|[7.5,0.5,0.36,6.1...|[7.5,0.5,0.36,6.1...|\n",
      "|          5.6|           0.615|        0.0|           1.6|0.08900000000000001|               16.0|                59.0| 0.9943|3.58|     0.52|    9.9|    5.0|[5.6,0.615,0.0,1....|[5.6,0.615,0.0,1....|\n",
      "|          8.9|            0.62|       0.18|           3.8|0.17600000000000002|               52.0|               145.0| 0.9986|3.16|     0.88|    9.2|    5.0|[8.9,0.62,0.18,3....|[8.9,0.62,0.18,3....|\n",
      "|          8.9|            0.62|       0.19|           3.9|               0.17|               51.0|               148.0| 0.9986|3.17|     0.93|    9.2|    5.0|[8.9,0.62,0.19,3....|[8.9,0.62,0.19,3....|\n",
      "|          8.5|            0.28|       0.56|           1.8|              0.092|               35.0|               103.0| 0.9969| 3.3|     0.75|   10.5|    7.0|[8.5,0.28,0.56,1....|[8.5,0.28,0.56,1....|\n",
      "|          7.4|            0.59|       0.08|           4.4|              0.086|                6.0|                29.0| 0.9974|3.38|      0.5|    9.0|    4.0|[7.4,0.59,0.08,4....|[7.4,0.59,0.08,4....|\n",
      "|          8.9|            0.22|       0.48|           1.8|              0.077|               29.0|                60.0| 0.9968|3.39|     0.53|    9.4|    6.0|[8.9,0.22,0.48,1....|[8.9,0.22,0.48,1....|\n",
      "|          7.6|            0.39|       0.31|           2.3|0.08199999999999999|               23.0|                71.0| 0.9982|3.52|     0.65|    9.7|    5.0|[7.6,0.39,0.31,2....|[7.6,0.39,0.31,2....|\n",
      "|          7.9|            0.43|       0.21|           1.6|              0.106|               10.0|                37.0| 0.9966|3.17|     0.91|    9.5|    5.0|[7.9,0.43,0.21,1....|[7.9,0.43,0.21,1....|\n",
      "+-------------+----------------+-----------+--------------+-------------------+-------------------+--------------------+-------+----+---------+-------+-------+--------------------+--------------------+\n",
      "only showing top 20 rows\n",
      "\n"
     ]
    }
   ],
   "source": [
    "from pyspark.ml.feature import ChiSqSelector\n",
    "selector=ChiSqSelector(percentile=0.9, featuresCol=\"features\", outputCol=\"selectedFeatures\", labelCol= \"quality\")\n",
    "model=selector.fit(df)\n",
    "df = model.transform(df)\n",
    "df.show()"
   ]
  },
  {
   "cell_type": "markdown",
   "id": "b5b7c8e6-845a-42ab-b381-6af864da03f3",
   "metadata": {},
   "source": [
    "### 4.2 Feature transformation"
   ]
  },
  {
   "cell_type": "code",
   "execution_count": 20,
   "id": "7528dd64-8e2a-4db0-be50-cdc23864ce5e",
   "metadata": {},
   "outputs": [
    {
     "name": "stdout",
     "output_type": "stream",
     "text": [
      "+-------------+----------------+-----------+--------------+-------------------+-------------------+--------------------+-------+----+---------+-------+-------+--------------------+--------------------+--------------------+\n",
      "|fixed acidity|volatile acidity|citric acid|residual sugar|          chlorides|free sulfur dioxide|total sulfur dioxide|density|  pH|sulphates|alcohol|quality|            features|    selectedFeatures| transformedFeatures|\n",
      "+-------------+----------------+-----------+--------------+-------------------+-------------------+--------------------+-------+----+---------+-------+-------+--------------------+--------------------+--------------------+\n",
      "|          7.4|             0.7|        0.0|           1.9|0.08316333118140737|               11.0|                34.0| 0.9978|3.51|     0.56|    9.4|    5.0|[7.4,0.7,0.0,1.9,...|[7.4,0.7,0.0,1.9,...|[4.45879142390061...|\n",
      "|          7.8|            0.88|        0.0|           2.6|0.08316333118140737|               25.0|                67.0| 0.9968| 3.2|     0.68|    9.8|    5.0|[7.8,0.88,0.0,2.6...|[7.8,0.88,0.0,2.6...|[4.69980717654388...|\n",
      "|          7.8|            0.76|       0.04|           2.3|              0.092|               15.0|                54.0|  0.997|3.26|     0.65|    9.8|    5.0|[7.8,0.76,0.04,2....|[7.8,0.76,0.04,2....|[4.69980717654388...|\n",
      "|         11.2|            0.28|       0.56|           1.9|              0.075|               17.0|                60.0|  0.998|3.16|     0.58|    9.8|    6.0|[11.2,0.28,0.56,1...|[11.2,0.28,0.56,1...|[6.74844107401173...|\n",
      "|          7.4|             0.7|        0.0|           1.9|              0.076|               11.0|                34.0| 0.9978|3.51|     0.56|    9.4|    5.0|[7.4,0.7,0.0,1.9,...|[7.4,0.7,0.0,1.9,...|[4.45879142390061...|\n",
      "|          7.4|            0.66|        0.0|           1.8|              0.075|               13.0|                40.0| 0.9978|3.51|     0.56|    9.4|    5.0|[7.4,0.66,0.0,1.8...|[7.4,0.66,0.0,1.8...|[4.45879142390061...|\n",
      "|          7.9|             0.6|       0.06|           1.6|              0.069|               15.0|                59.0| 0.9964| 3.3|     0.46|    9.4|    5.0|[7.9,0.6,0.06,1.6...|[7.9,0.6,0.06,1.6...|[4.76006111470470...|\n",
      "|          7.3|            0.65|        0.0|           1.2|              0.065|               15.0|                21.0| 0.9946|3.39|     0.47|   10.0|    7.0|[7.3,0.65,0.0,1.2...|[7.3,0.65,0.0,1.2...|[4.39853748573979...|\n",
      "|          7.8|            0.58|       0.02|           2.0|              0.073|                9.0|                18.0| 0.9968|3.36|     0.57|    9.5|    7.0|[7.8,0.58,0.02,2....|[7.8,0.58,0.02,2....|[4.69980717654388...|\n",
      "|          7.5|             0.5|       0.36|           6.1|              0.071|               17.0|               102.0| 0.9978|3.35|      0.8|   10.5|    5.0|[7.5,0.5,0.36,6.1...|[7.5,0.5,0.36,6.1...|[4.51904536206142...|\n",
      "|          6.7|            0.58|       0.08|           1.8|0.09699999999999999|               15.0|                65.0| 0.9959|3.28|     0.54|    9.2|    5.0|[6.7,0.58,0.08,1....|[6.7,0.58,0.08,1....|[4.03701385677487...|\n",
      "|          7.5|             0.5|       0.36|           6.1|              0.071|               17.0|               102.0| 0.9978|3.35|      0.8|   10.5|    5.0|[7.5,0.5,0.36,6.1...|[7.5,0.5,0.36,6.1...|[4.51904536206142...|\n",
      "|          5.6|           0.615|        0.0|           1.6|0.08900000000000001|               16.0|                59.0| 0.9943|3.58|     0.52|    9.9|    5.0|[5.6,0.615,0.0,1....|[5.6,0.615,0.0,1....|[3.37422053700586...|\n",
      "|          8.9|            0.62|       0.18|           3.8|0.17600000000000002|               52.0|               145.0| 0.9986|3.16|     0.88|    9.2|    5.0|[8.9,0.62,0.18,3....|[8.9,0.62,0.18,3....|[5.36260049631289...|\n",
      "|          8.9|            0.62|       0.19|           3.9|               0.17|               51.0|               148.0| 0.9986|3.17|     0.93|    9.2|    5.0|[8.9,0.62,0.19,3....|[8.9,0.62,0.19,3....|[5.36260049631289...|\n",
      "|          8.5|            0.28|       0.56|           1.8|              0.092|               35.0|               103.0| 0.9969| 3.3|     0.75|   10.5|    7.0|[8.5,0.28,0.56,1....|[8.5,0.28,0.56,1....|[5.12158474366962...|\n",
      "|          7.4|            0.59|       0.08|           4.4|              0.086|                6.0|                29.0| 0.9974|3.38|      0.5|    9.0|    4.0|[7.4,0.59,0.08,4....|[7.4,0.59,0.08,4....|[4.45879142390061...|\n",
      "|          8.9|            0.22|       0.48|           1.8|              0.077|               29.0|                60.0| 0.9968|3.39|     0.53|    9.4|    6.0|[8.9,0.22,0.48,1....|[8.9,0.22,0.48,1....|[5.36260049631289...|\n",
      "|          7.6|            0.39|       0.31|           2.3|0.08199999999999999|               23.0|                71.0| 0.9982|3.52|     0.65|    9.7|    5.0|[7.6,0.39,0.31,2....|[7.6,0.39,0.31,2....|[4.57929930022224...|\n",
      "|          7.9|            0.43|       0.21|           1.6|              0.106|               10.0|                37.0| 0.9966|3.17|     0.91|    9.5|    5.0|[7.9,0.43,0.21,1....|[7.9,0.43,0.21,1....|[4.76006111470470...|\n",
      "+-------------+----------------+-----------+--------------+-------------------+-------------------+--------------------+-------+----+---------+-------+-------+--------------------+--------------------+--------------------+\n",
      "only showing top 20 rows\n",
      "\n"
     ]
    }
   ],
   "source": [
    "from pyspark.ml.feature import StandardScaler\n",
    "scaler = StandardScaler(inputCol=\"selectedFeatures\", outputCol=\"transformedFeatures\", withStd=True, withMean=False)\n",
    "scalerModel = scaler.fit(df)\n",
    "# Normalize each feature to have unit standard deviation.\n",
    "df = scalerModel.transform(df)\n",
    "df.show()"
   ]
  },
  {
   "cell_type": "markdown",
   "id": "25a5b2b1-b4ed-4cd6-919b-145b00a7de39",
   "metadata": {},
   "source": [
    "### 4.3 Reclassification"
   ]
  },
  {
   "cell_type": "code",
   "execution_count": 21,
   "id": "15da3d7b-cc04-402f-8953-9366f7211669",
   "metadata": {},
   "outputs": [
    {
     "name": "stdout",
     "output_type": "stream",
     "text": [
      "+-------------+----------------+-----------+--------------+-------------------+-------------------+--------------------+-------+----+---------+-------+-------+--------------------+--------------------+--------------------+--------------------+\n",
      "|fixed acidity|volatile acidity|citric acid|residual sugar|          chlorides|free sulfur dioxide|total sulfur dioxide|density|  pH|sulphates|alcohol|quality|            features|    selectedFeatures| transformedFeatures|quality-reclassified|\n",
      "+-------------+----------------+-----------+--------------+-------------------+-------------------+--------------------+-------+----+---------+-------+-------+--------------------+--------------------+--------------------+--------------------+\n",
      "|          7.4|             0.7|        0.0|           1.9|0.08316333118140737|               11.0|                34.0| 0.9978|3.51|     0.56|    9.4|    5.0|[7.4,0.7,0.0,1.9,...|[7.4,0.7,0.0,1.9,...|[4.45879142390061...|             average|\n",
      "|          7.8|            0.88|        0.0|           2.6|0.08316333118140737|               25.0|                67.0| 0.9968| 3.2|     0.68|    9.8|    5.0|[7.8,0.88,0.0,2.6...|[7.8,0.88,0.0,2.6...|[4.69980717654388...|             average|\n",
      "|          7.8|            0.76|       0.04|           2.3|              0.092|               15.0|                54.0|  0.997|3.26|     0.65|    9.8|    5.0|[7.8,0.76,0.04,2....|[7.8,0.76,0.04,2....|[4.69980717654388...|             average|\n",
      "|         11.2|            0.28|       0.56|           1.9|              0.075|               17.0|                60.0|  0.998|3.16|     0.58|    9.8|    6.0|[11.2,0.28,0.56,1...|[11.2,0.28,0.56,1...|[6.74844107401173...|             average|\n",
      "|          7.4|             0.7|        0.0|           1.9|              0.076|               11.0|                34.0| 0.9978|3.51|     0.56|    9.4|    5.0|[7.4,0.7,0.0,1.9,...|[7.4,0.7,0.0,1.9,...|[4.45879142390061...|             average|\n",
      "|          7.4|            0.66|        0.0|           1.8|              0.075|               13.0|                40.0| 0.9978|3.51|     0.56|    9.4|    5.0|[7.4,0.66,0.0,1.8...|[7.4,0.66,0.0,1.8...|[4.45879142390061...|             average|\n",
      "|          7.9|             0.6|       0.06|           1.6|              0.069|               15.0|                59.0| 0.9964| 3.3|     0.46|    9.4|    5.0|[7.9,0.6,0.06,1.6...|[7.9,0.6,0.06,1.6...|[4.76006111470470...|             average|\n",
      "|          7.3|            0.65|        0.0|           1.2|              0.065|               15.0|                21.0| 0.9946|3.39|     0.47|   10.0|    7.0|[7.3,0.65,0.0,1.2...|[7.3,0.65,0.0,1.2...|[4.39853748573979...|                good|\n",
      "|          7.8|            0.58|       0.02|           2.0|              0.073|                9.0|                18.0| 0.9968|3.36|     0.57|    9.5|    7.0|[7.8,0.58,0.02,2....|[7.8,0.58,0.02,2....|[4.69980717654388...|                good|\n",
      "|          7.5|             0.5|       0.36|           6.1|              0.071|               17.0|               102.0| 0.9978|3.35|      0.8|   10.5|    5.0|[7.5,0.5,0.36,6.1...|[7.5,0.5,0.36,6.1...|[4.51904536206142...|             average|\n",
      "|          6.7|            0.58|       0.08|           1.8|0.09699999999999999|               15.0|                65.0| 0.9959|3.28|     0.54|    9.2|    5.0|[6.7,0.58,0.08,1....|[6.7,0.58,0.08,1....|[4.03701385677487...|             average|\n",
      "|          7.5|             0.5|       0.36|           6.1|              0.071|               17.0|               102.0| 0.9978|3.35|      0.8|   10.5|    5.0|[7.5,0.5,0.36,6.1...|[7.5,0.5,0.36,6.1...|[4.51904536206142...|             average|\n",
      "|          5.6|           0.615|        0.0|           1.6|0.08900000000000001|               16.0|                59.0| 0.9943|3.58|     0.52|    9.9|    5.0|[5.6,0.615,0.0,1....|[5.6,0.615,0.0,1....|[3.37422053700586...|             average|\n",
      "|          8.9|            0.62|       0.18|           3.8|0.17600000000000002|               52.0|               145.0| 0.9986|3.16|     0.88|    9.2|    5.0|[8.9,0.62,0.18,3....|[8.9,0.62,0.18,3....|[5.36260049631289...|             average|\n",
      "|          8.9|            0.62|       0.19|           3.9|               0.17|               51.0|               148.0| 0.9986|3.17|     0.93|    9.2|    5.0|[8.9,0.62,0.19,3....|[8.9,0.62,0.19,3....|[5.36260049631289...|             average|\n",
      "|          8.5|            0.28|       0.56|           1.8|              0.092|               35.0|               103.0| 0.9969| 3.3|     0.75|   10.5|    7.0|[8.5,0.28,0.56,1....|[8.5,0.28,0.56,1....|[5.12158474366962...|                good|\n",
      "|          7.4|            0.59|       0.08|           4.4|              0.086|                6.0|                29.0| 0.9974|3.38|      0.5|    9.0|    4.0|[7.4,0.59,0.08,4....|[7.4,0.59,0.08,4....|[4.45879142390061...|                 bad|\n",
      "|          8.9|            0.22|       0.48|           1.8|              0.077|               29.0|                60.0| 0.9968|3.39|     0.53|    9.4|    6.0|[8.9,0.22,0.48,1....|[8.9,0.22,0.48,1....|[5.36260049631289...|             average|\n",
      "|          7.6|            0.39|       0.31|           2.3|0.08199999999999999|               23.0|                71.0| 0.9982|3.52|     0.65|    9.7|    5.0|[7.6,0.39,0.31,2....|[7.6,0.39,0.31,2....|[4.57929930022224...|             average|\n",
      "|          7.9|            0.43|       0.21|           1.6|              0.106|               10.0|                37.0| 0.9966|3.17|     0.91|    9.5|    5.0|[7.9,0.43,0.21,1....|[7.9,0.43,0.21,1....|[4.76006111470470...|             average|\n",
      "+-------------+----------------+-----------+--------------+-------------------+-------------------+--------------------+-------+----+---------+-------+-------+--------------------+--------------------+--------------------+--------------------+\n",
      "only showing top 20 rows\n",
      "\n"
     ]
    }
   ],
   "source": [
    "from itertools import chain\n",
    "from pyspark.sql.functions import create_map, lit\n",
    "simple_dict = {3.0:'bad', 4.0:'bad', 5.0:'average', 6.0:'average', 7.0:'good', 8.0:'good'}\n",
    "mapping_expr = create_map([lit(x) for x in chain(*simple_dict.items())])\n",
    "df = df.withColumn('quality-reclassified', mapping_expr[df['quality']])\n",
    "df.show()"
   ]
  },
  {
   "cell_type": "markdown",
   "id": "0771de42-2123-421c-8502-3a8d4fba94ad",
   "metadata": {},
   "source": [
    "### 4.4 Encode label"
   ]
  },
  {
   "cell_type": "code",
   "execution_count": 22,
   "id": "6b24f4eb-d87d-4ae5-b535-a898a9b42351",
   "metadata": {
    "tags": []
   },
   "outputs": [
    {
     "name": "stdout",
     "output_type": "stream",
     "text": [
      "+-------------+----------------+-----------+--------------+-------------------+-------------------+--------------------+-------+----+---------+-------+-------+--------------------+--------------------+--------------------+--------------------+----------+\n",
      "|fixed acidity|volatile acidity|citric acid|residual sugar|          chlorides|free sulfur dioxide|total sulfur dioxide|density|  pH|sulphates|alcohol|quality|            features|    selectedFeatures| transformedFeatures|quality-reclassified|labelIndex|\n",
      "+-------------+----------------+-----------+--------------+-------------------+-------------------+--------------------+-------+----+---------+-------+-------+--------------------+--------------------+--------------------+--------------------+----------+\n",
      "|          7.4|             0.7|        0.0|           1.9|0.08316333118140737|               11.0|                34.0| 0.9978|3.51|     0.56|    9.4|    5.0|[7.4,0.7,0.0,1.9,...|[7.4,0.7,0.0,1.9,...|[4.45879142390061...|             average|       0.0|\n",
      "|          7.8|            0.88|        0.0|           2.6|0.08316333118140737|               25.0|                67.0| 0.9968| 3.2|     0.68|    9.8|    5.0|[7.8,0.88,0.0,2.6...|[7.8,0.88,0.0,2.6...|[4.69980717654388...|             average|       0.0|\n",
      "|          7.8|            0.76|       0.04|           2.3|              0.092|               15.0|                54.0|  0.997|3.26|     0.65|    9.8|    5.0|[7.8,0.76,0.04,2....|[7.8,0.76,0.04,2....|[4.69980717654388...|             average|       0.0|\n",
      "|         11.2|            0.28|       0.56|           1.9|              0.075|               17.0|                60.0|  0.998|3.16|     0.58|    9.8|    6.0|[11.2,0.28,0.56,1...|[11.2,0.28,0.56,1...|[6.74844107401173...|             average|       0.0|\n",
      "|          7.4|             0.7|        0.0|           1.9|              0.076|               11.0|                34.0| 0.9978|3.51|     0.56|    9.4|    5.0|[7.4,0.7,0.0,1.9,...|[7.4,0.7,0.0,1.9,...|[4.45879142390061...|             average|       0.0|\n",
      "|          7.4|            0.66|        0.0|           1.8|              0.075|               13.0|                40.0| 0.9978|3.51|     0.56|    9.4|    5.0|[7.4,0.66,0.0,1.8...|[7.4,0.66,0.0,1.8...|[4.45879142390061...|             average|       0.0|\n",
      "|          7.9|             0.6|       0.06|           1.6|              0.069|               15.0|                59.0| 0.9964| 3.3|     0.46|    9.4|    5.0|[7.9,0.6,0.06,1.6...|[7.9,0.6,0.06,1.6...|[4.76006111470470...|             average|       0.0|\n",
      "|          7.3|            0.65|        0.0|           1.2|              0.065|               15.0|                21.0| 0.9946|3.39|     0.47|   10.0|    7.0|[7.3,0.65,0.0,1.2...|[7.3,0.65,0.0,1.2...|[4.39853748573979...|                good|       2.0|\n",
      "|          7.8|            0.58|       0.02|           2.0|              0.073|                9.0|                18.0| 0.9968|3.36|     0.57|    9.5|    7.0|[7.8,0.58,0.02,2....|[7.8,0.58,0.02,2....|[4.69980717654388...|                good|       2.0|\n",
      "|          7.5|             0.5|       0.36|           6.1|              0.071|               17.0|               102.0| 0.9978|3.35|      0.8|   10.5|    5.0|[7.5,0.5,0.36,6.1...|[7.5,0.5,0.36,6.1...|[4.51904536206142...|             average|       0.0|\n",
      "|          6.7|            0.58|       0.08|           1.8|0.09699999999999999|               15.0|                65.0| 0.9959|3.28|     0.54|    9.2|    5.0|[6.7,0.58,0.08,1....|[6.7,0.58,0.08,1....|[4.03701385677487...|             average|       0.0|\n",
      "|          7.5|             0.5|       0.36|           6.1|              0.071|               17.0|               102.0| 0.9978|3.35|      0.8|   10.5|    5.0|[7.5,0.5,0.36,6.1...|[7.5,0.5,0.36,6.1...|[4.51904536206142...|             average|       0.0|\n",
      "|          5.6|           0.615|        0.0|           1.6|0.08900000000000001|               16.0|                59.0| 0.9943|3.58|     0.52|    9.9|    5.0|[5.6,0.615,0.0,1....|[5.6,0.615,0.0,1....|[3.37422053700586...|             average|       0.0|\n",
      "|          8.9|            0.62|       0.18|           3.8|0.17600000000000002|               52.0|               145.0| 0.9986|3.16|     0.88|    9.2|    5.0|[8.9,0.62,0.18,3....|[8.9,0.62,0.18,3....|[5.36260049631289...|             average|       0.0|\n",
      "|          8.9|            0.62|       0.19|           3.9|               0.17|               51.0|               148.0| 0.9986|3.17|     0.93|    9.2|    5.0|[8.9,0.62,0.19,3....|[8.9,0.62,0.19,3....|[5.36260049631289...|             average|       0.0|\n",
      "|          8.5|            0.28|       0.56|           1.8|              0.092|               35.0|               103.0| 0.9969| 3.3|     0.75|   10.5|    7.0|[8.5,0.28,0.56,1....|[8.5,0.28,0.56,1....|[5.12158474366962...|                good|       2.0|\n",
      "|          7.4|            0.59|       0.08|           4.4|              0.086|                6.0|                29.0| 0.9974|3.38|      0.5|    9.0|    4.0|[7.4,0.59,0.08,4....|[7.4,0.59,0.08,4....|[4.45879142390061...|                 bad|       1.0|\n",
      "|          8.9|            0.22|       0.48|           1.8|              0.077|               29.0|                60.0| 0.9968|3.39|     0.53|    9.4|    6.0|[8.9,0.22,0.48,1....|[8.9,0.22,0.48,1....|[5.36260049631289...|             average|       0.0|\n",
      "|          7.6|            0.39|       0.31|           2.3|0.08199999999999999|               23.0|                71.0| 0.9982|3.52|     0.65|    9.7|    5.0|[7.6,0.39,0.31,2....|[7.6,0.39,0.31,2....|[4.57929930022224...|             average|       0.0|\n",
      "|          7.9|            0.43|       0.21|           1.6|              0.106|               10.0|                37.0| 0.9966|3.17|     0.91|    9.5|    5.0|[7.9,0.43,0.21,1....|[7.9,0.43,0.21,1....|[4.76006111470470...|             average|       0.0|\n",
      "+-------------+----------------+-----------+--------------+-------------------+-------------------+--------------------+-------+----+---------+-------+-------+--------------------+--------------------+--------------------+--------------------+----------+\n",
      "only showing top 20 rows\n",
      "\n"
     ]
    }
   ],
   "source": [
    "from pyspark.ml.feature import StringIndexer\n",
    "label_stringIdx = StringIndexer(inputCol = 'quality-reclassified', outputCol = 'labelIndex')\n",
    "df = label_stringIdx.fit(df).transform(df)\n",
    "df.show()"
   ]
  },
  {
   "cell_type": "markdown",
   "id": "340bec94-cb60-449c-ace9-7bb1304f6dd7",
   "metadata": {},
   "source": [
    "## 5. Modelling and Evaludation"
   ]
  },
  {
   "cell_type": "markdown",
   "id": "7503cde9-6b54-4f40-91a6-68c8b678da51",
   "metadata": {},
   "source": [
    "### 5.1 Split dataset "
   ]
  },
  {
   "cell_type": "code",
   "execution_count": 23,
   "id": "da1cb2c9-3008-45a2-bf8d-bf7225876b31",
   "metadata": {},
   "outputs": [
    {
     "name": "stdout",
     "output_type": "stream",
     "text": [
      "Training Dataset Count: 2746\n",
      "Test Dataset Count: 1184\n"
     ]
    }
   ],
   "source": [
    "train, test = df.randomSplit([0.7, 0.3], seed = 2022)\n",
    "print(\"Training Dataset Count: \" + str(train.count()))\n",
    "print(\"Test Dataset Count: \" + str(test.count()))"
   ]
  },
  {
   "cell_type": "markdown",
   "id": "47ed6d7d-43f5-49f0-808b-01b787da1306",
   "metadata": {},
   "source": [
    "### 5.2 Decision Tree"
   ]
  },
  {
   "cell_type": "code",
   "execution_count": 24,
   "id": "587ae382-f01d-4690-a36c-faa2212dcbcc",
   "metadata": {},
   "outputs": [],
   "source": [
    "from pyspark.ml.classification import DecisionTreeClassifier\n",
    "dt = DecisionTreeClassifier(featuresCol = 'transformedFeatures', labelCol = 'labelIndex')\n",
    "dtModel = dt.fit(train)\n",
    "predictions = dtModel.transform(test)"
   ]
  },
  {
   "cell_type": "code",
   "execution_count": 25,
   "id": "222c3eaa-1b5e-4b36-8cc8-f2fe3299d0cb",
   "metadata": {},
   "outputs": [
    {
     "name": "stdout",
     "output_type": "stream",
     "text": [
      "+----------+----------+-------------------------------------------------------------+\n",
      "|labelIndex|prediction|probability                                                  |\n",
      "+----------+----------+-------------------------------------------------------------+\n",
      "|0.0       |0.0       |[0.9395973154362416,0.013422818791946308,0.04697986577181208]|\n",
      "|2.0       |2.0       |[0.05989110707803993,0.0,0.9401088929219601]                 |\n",
      "|0.0       |1.0       |[0.44642857142857145,0.5535714285714286,0.0]                 |\n",
      "|2.0       |2.0       |[0.05989110707803993,0.0,0.9401088929219601]                 |\n",
      "|0.0       |2.0       |[0.05989110707803993,0.0,0.9401088929219601]                 |\n",
      "|2.0       |0.0       |[0.9395973154362416,0.013422818791946308,0.04697986577181208]|\n",
      "|2.0       |2.0       |[0.05989110707803993,0.0,0.9401088929219601]                 |\n",
      "|0.0       |0.0       |[0.9395973154362416,0.013422818791946308,0.04697986577181208]|\n",
      "|2.0       |0.0       |[0.49032258064516127,0.44516129032258067,0.06451612903225806]|\n",
      "|2.0       |2.0       |[0.05989110707803993,0.0,0.9401088929219601]                 |\n",
      "|0.0       |0.0       |[0.6077348066298343,0.30386740331491713,0.08839779005524862] |\n",
      "|0.0       |0.0       |[0.6077348066298343,0.30386740331491713,0.08839779005524862] |\n",
      "|0.0       |2.0       |[0.3979591836734694,0.1326530612244898,0.46938775510204084]  |\n",
      "|0.0       |1.0       |[0.44642857142857145,0.5535714285714286,0.0]                 |\n",
      "|0.0       |2.0       |[0.3979591836734694,0.1326530612244898,0.46938775510204084]  |\n",
      "|0.0       |0.0       |[0.6077348066298343,0.30386740331491713,0.08839779005524862] |\n",
      "|0.0       |0.0       |[0.7943262411347518,0.15602836879432624,0.04964539007092199] |\n",
      "|0.0       |0.0       |[0.7943262411347518,0.15602836879432624,0.04964539007092199] |\n",
      "|0.0       |0.0       |[0.7943262411347518,0.15602836879432624,0.04964539007092199] |\n",
      "|0.0       |1.0       |[0.44642857142857145,0.5535714285714286,0.0]                 |\n",
      "+----------+----------+-------------------------------------------------------------+\n",
      "only showing top 20 rows\n",
      "\n"
     ]
    }
   ],
   "source": [
    "predictions.select('labelIndex', 'prediction', 'probability').show(truncate=False)"
   ]
  },
  {
   "cell_type": "code",
   "execution_count": 26,
   "id": "5868575a-740a-476e-8e34-2c88d029f82d",
   "metadata": {},
   "outputs": [
    {
     "name": "stdout",
     "output_type": "stream",
     "text": [
      "Accuracy = 0.7796017995188732\n",
      "Test Error = 0.2203982004811268\n"
     ]
    }
   ],
   "source": [
    "from pyspark.ml.evaluation import MulticlassClassificationEvaluator\n",
    "evaluator = MulticlassClassificationEvaluator(labelCol=\"labelIndex\", predictionCol=\"prediction\")\n",
    "accuracy = evaluator.evaluate(predictions)\n",
    "print(\"Accuracy = %s\" % (accuracy))\n",
    "print(\"Test Error = %s\" % (1.0 - accuracy))"
   ]
  },
  {
   "cell_type": "code",
   "execution_count": 27,
   "id": "3ab4f6ce-73d9-4a1a-af19-6c1a99ed334f",
   "metadata": {},
   "outputs": [
    {
     "name": "stdout",
     "output_type": "stream",
     "text": [
      "[[280.  51.  75.]\n",
      " [ 73. 307.   7.]\n",
      " [ 55.   0. 336.]]\n"
     ]
    }
   ],
   "source": [
    "from pyspark.mllib.evaluation import MulticlassMetrics\n",
    "from pyspark.sql.types import FloatType\n",
    "import pyspark.sql.functions as F\n",
    "\n",
    "preds_and_labels = predictions.select(['prediction','labelIndex']).withColumn('labelIndex', F.col('labelIndex').cast(FloatType())).orderBy('prediction')\n",
    "preds_and_labels = preds_and_labels.select(['prediction','labelIndex'])\n",
    "metrics = MulticlassMetrics(preds_and_labels.rdd.map(tuple))\n",
    "print(metrics.confusionMatrix().toArray())"
   ]
  },
  {
   "cell_type": "code",
   "execution_count": 28,
   "id": "ef02af1c-e507-42a5-b623-06b219bf3f90",
   "metadata": {},
   "outputs": [
    {
     "name": "stdout",
     "output_type": "stream",
     "text": [
      "Model information:  DecisionTreeClassificationModel: uid=DecisionTreeClassifier_9af557e55f6e, depth=5, numNodes=51, numClasses=3, numFeatures=11\n"
     ]
    }
   ],
   "source": [
    "print(\"Model information: \", dtModel)"
   ]
  },
  {
   "cell_type": "code",
   "execution_count": 29,
   "id": "b8b95a55-53d4-4765-a515-40c911b4157e",
   "metadata": {},
   "outputs": [
    {
     "name": "stdout",
     "output_type": "stream",
     "text": [
      "DecisionTreeClassificationModel: uid=DecisionTreeClassifier_9af557e55f6e, depth=5, numNodes=51, numClasses=3, numFeatures=11\n",
      "  If (feature 9 <= 5.096050556720404)\n",
      "   If (feature 1 <= 2.794345113410528)\n",
      "    If (feature 5 <= 1.647539057038243)\n",
      "     If (feature 1 <= 2.3513379095478983)\n",
      "      If (feature 10 <= 9.456394012977793)\n",
      "       Predict: 0.0\n",
      "      Else (feature 10 > 9.456394012977793)\n",
      "       Predict: 2.0\n",
      "     Else (feature 1 > 2.3513379095478983)\n",
      "      If (feature 2 <= 1.625296571973692)\n",
      "       Predict: 0.0\n",
      "      Else (feature 2 > 1.625296571973692)\n",
      "       Predict: 1.0\n",
      "    Else (feature 5 > 1.647539057038243)\n",
      "     If (feature 6 <= 1.9651128406894842)\n",
      "      If (feature 6 <= 1.5104928133733768)\n",
      "       Predict: 0.0\n",
      "      Else (feature 6 > 1.5104928133733768)\n",
      "       Predict: 1.0\n",
      "     Else (feature 6 > 1.9651128406894842)\n",
      "      Predict: 0.0\n",
      "   Else (feature 1 > 2.794345113410528)\n",
      "    If (feature 8 <= 21.202658296769958)\n",
      "     If (feature 4 <= 3.3314933947479886)\n",
      "      Predict: 0.0\n",
      "     Else (feature 4 > 3.3314933947479886)\n",
      "      Predict: 1.0\n",
      "    Else (feature 8 > 21.202658296769958)\n",
      "     If (feature 10 <= 9.709216614628307)\n",
      "      If (feature 6 <= 3.16293407399722)\n",
      "       Predict: 1.0\n",
      "      Else (feature 6 > 3.16293407399722)\n",
      "       Predict: 0.0\n",
      "     Else (feature 10 > 9.709216614628307)\n",
      "      If (feature 7 <= 530.6683372900111)\n",
      "       Predict: 0.0\n",
      "      Else (feature 7 > 530.6683372900111)\n",
      "       Predict: 2.0\n",
      "  Else (feature 9 > 5.096050556720404)\n",
      "   If (feature 10 <= 8.94959242008278)\n",
      "    If (feature 4 <= 3.3314933947479886)\n",
      "     If (feature 10 <= 8.315493000667857)\n",
      "      Predict: 0.0\n",
      "     Else (feature 10 > 8.315493000667857)\n",
      "      If (feature 1 <= 1.6866079639998737)\n",
      "       Predict: 2.0\n",
      "      Else (feature 1 > 1.6866079639998737)\n",
      "       Predict: 0.0\n",
      "    Else (feature 4 > 3.3314933947479886)\n",
      "     If (feature 8 <= 21.870398556212553)\n",
      "      Predict: 0.0\n",
      "     Else (feature 8 > 21.870398556212553)\n",
      "      If (feature 0 <= 4.83585480305343)\n",
      "       Predict: 0.0\n",
      "      Else (feature 0 > 4.83585480305343)\n",
      "       Predict: 1.0\n",
      "   Else (feature 10 > 8.94959242008278)\n",
      "    If (feature 10 <= 9.573039118444365)\n",
      "     If (feature 1 <= 1.6200535621414929)\n",
      "      If (feature 6 <= 1.9651128406894842)\n",
      "       Predict: 2.0\n",
      "      Else (feature 6 > 1.9651128406894842)\n",
      "       Predict: 0.0\n",
      "     Else (feature 1 > 1.6200535621414929)\n",
      "      If (feature 3 <= 1.477592926485809)\n",
      "       Predict: 2.0\n",
      "      Else (feature 3 > 1.477592926485809)\n",
      "       Predict: 0.0\n",
      "    Else (feature 10 > 9.573039118444365)\n",
      "     If (feature 4 <= 2.520474553125174)\n",
      "      Predict: 2.0\n",
      "     Else (feature 4 > 2.520474553125174)\n",
      "      If (feature 6 <= 0.8727708985041105)\n",
      "       Predict: 2.0\n",
      "      Else (feature 6 > 0.8727708985041105)\n",
      "       Predict: 0.0\n",
      "\n"
     ]
    }
   ],
   "source": [
    "print(dtModel.toDebugString)"
   ]
  },
  {
   "cell_type": "markdown",
   "id": "f4b4498f-cbbb-409e-9dcf-705d7d1308cb",
   "metadata": {},
   "source": [
    "### 5.3 Random Forest"
   ]
  },
  {
   "cell_type": "code",
   "execution_count": 30,
   "id": "eefe8134-2b16-4fb6-94a3-b3d0158b8c6e",
   "metadata": {},
   "outputs": [],
   "source": [
    "from pyspark.ml.classification import RandomForestClassifier\n",
    "rf = RandomForestClassifier(featuresCol = 'transformedFeatures', labelCol = 'labelIndex')\n",
    "rfModel = rf.fit(train)\n",
    "predictions = rfModel.transform(test)"
   ]
  },
  {
   "cell_type": "code",
   "execution_count": 31,
   "id": "688dceb5-cf99-439b-85a7-4f9de73567d1",
   "metadata": {},
   "outputs": [
    {
     "name": "stdout",
     "output_type": "stream",
     "text": [
      "+----------+----------+-------------------------------------------------------------+\n",
      "|labelIndex|prediction|probability                                                  |\n",
      "+----------+----------+-------------------------------------------------------------+\n",
      "|0.0       |0.0       |[0.5377980240834146,0.12129698579536893,0.34090499012121644] |\n",
      "|2.0       |2.0       |[0.16769041065024537,0.001448441814710145,0.8308611475350444]|\n",
      "|0.0       |0.0       |[0.557641882077904,0.16980479668327833,0.2725533212388177]   |\n",
      "|2.0       |2.0       |[0.24629620324175255,0.02747220307240034,0.7262315936858471] |\n",
      "|0.0       |2.0       |[0.31203413076628944,4.990747261025499E-4,0.6874667945076081]|\n",
      "|2.0       |0.0       |[0.595343507569367,0.12484001640890699,0.279816476021726]    |\n",
      "|2.0       |2.0       |[0.23773362654104258,0.024814150217892846,0.7374522232410645]|\n",
      "|0.0       |0.0       |[0.6856476384986709,0.2529427157277043,0.0614096457736249]   |\n",
      "|2.0       |2.0       |[0.306064851664809,0.2587150939840683,0.4352200543511227]    |\n",
      "|2.0       |2.0       |[0.07989503627874402,0.05298942113395936,0.8671155425872966] |\n",
      "|0.0       |0.0       |[0.5583394770300066,0.3745845210867091,0.06707600188328429]  |\n",
      "|0.0       |0.0       |[0.532875770678693,0.38401938446730977,0.08310484485399723]  |\n",
      "|0.0       |0.0       |[0.36926470505165365,0.34979260967618947,0.28094268527215693]|\n",
      "|0.0       |0.0       |[0.5528170453649023,0.19585601365938407,0.2513269409757137]  |\n",
      "|0.0       |0.0       |[0.5014260728096234,0.23068111002987052,0.26789281716050617] |\n",
      "|0.0       |0.0       |[0.596596400331861,0.3208061869147001,0.08259741275343885]   |\n",
      "|0.0       |0.0       |[0.7198908791038988,0.141891617966373,0.13821750292972806]   |\n",
      "|0.0       |0.0       |[0.7198908791038988,0.141891617966373,0.13821750292972806]   |\n",
      "|0.0       |0.0       |[0.7473534953914367,0.14971370380088755,0.10293280080767575] |\n",
      "|0.0       |0.0       |[0.5795180397103439,0.26078576604754533,0.15969619424211068] |\n",
      "+----------+----------+-------------------------------------------------------------+\n",
      "only showing top 20 rows\n",
      "\n"
     ]
    }
   ],
   "source": [
    "predictions.select('labelIndex', 'prediction', 'probability').show(truncate=False)"
   ]
  },
  {
   "cell_type": "code",
   "execution_count": 32,
   "id": "cbdd6056-65a4-439e-8041-49e27a887f59",
   "metadata": {},
   "outputs": [
    {
     "name": "stdout",
     "output_type": "stream",
     "text": [
      "Accuracy = 0.8241881455632176\n",
      "Test Error = 0.17581185443678238\n"
     ]
    }
   ],
   "source": [
    "from pyspark.ml.evaluation import MulticlassClassificationEvaluator\n",
    "evaluator = MulticlassClassificationEvaluator(labelCol=\"labelIndex\", predictionCol=\"prediction\")\n",
    "accuracy = evaluator.evaluate(predictions)\n",
    "print(\"Accuracy = %s\" % (accuracy))\n",
    "print(\"Test Error = %s\" % (1.0 - accuracy))"
   ]
  },
  {
   "cell_type": "code",
   "execution_count": 33,
   "id": "de4ce7ed-bdf3-427d-bfbe-09eb55d05a08",
   "metadata": {},
   "outputs": [
    {
     "name": "stdout",
     "output_type": "stream",
     "text": [
      "[[296.  49.  61.]\n",
      " [ 58. 327.   2.]\n",
      " [ 36.   1. 354.]]\n"
     ]
    }
   ],
   "source": [
    "from pyspark.mllib.evaluation import MulticlassMetrics\n",
    "from pyspark.sql.types import FloatType\n",
    "import pyspark.sql.functions as F\n",
    "\n",
    "preds_and_labels = predictions.select(['prediction','labelIndex']).withColumn('labelIndex', F.col('labelIndex').cast(FloatType())).orderBy('prediction')\n",
    "preds_and_labels = preds_and_labels.select(['prediction','labelIndex'])\n",
    "metrics = MulticlassMetrics(preds_and_labels.rdd.map(tuple))\n",
    "print(metrics.confusionMatrix().toArray())"
   ]
  },
  {
   "cell_type": "code",
   "execution_count": 34,
   "id": "8476ea74-6fe3-4c8a-b7d7-05a47f4d7369",
   "metadata": {},
   "outputs": [
    {
     "name": "stdout",
     "output_type": "stream",
     "text": [
      "Model information:  RandomForestClassificationModel: uid=RandomForestClassifier_d498a8156794, numTrees=20, numClasses=3, numFeatures=11\n"
     ]
    }
   ],
   "source": [
    "print(\"Model information: \", rfModel)"
   ]
  },
  {
   "cell_type": "code",
   "execution_count": 40,
   "id": "f1a13ee1-0699-4b02-9517-f8b8094a519c",
   "metadata": {},
   "outputs": [],
   "source": [
    "#print(rfModel.toDebugString)"
   ]
  },
  {
   "cell_type": "markdown",
   "id": "f76e8eac-0e53-427e-bf6a-ad2bdb04c3d0",
   "metadata": {},
   "source": [
    "### 5.4 Cross Validation"
   ]
  },
  {
   "cell_type": "code",
   "execution_count": 43,
   "id": "023a7184-bb22-42f6-8ebc-646607e3cc1b",
   "metadata": {},
   "outputs": [
    {
     "name": "stdout",
     "output_type": "stream",
     "text": [
      "22/10/10 23:23:04 WARN DAGScheduler: Broadcasting large task binary with size 1094.9 KiB\n",
      "22/10/10 23:23:06 WARN DAGScheduler: Broadcasting large task binary with size 1383.4 KiB\n",
      "22/10/10 23:23:06 WARN DAGScheduler: Broadcasting large task binary with size 1948.1 KiB\n",
      "22/10/10 23:23:07 WARN DAGScheduler: Broadcasting large task binary with size 2.5 MiB\n",
      "22/10/10 23:23:07 WARN DAGScheduler: Broadcasting large task binary with size 1790.2 KiB\n",
      "22/10/10 23:23:12 WARN DAGScheduler: Broadcasting large task binary with size 1295.0 KiB\n",
      "22/10/10 23:23:12 WARN DAGScheduler: Broadcasting large task binary with size 1757.2 KiB\n",
      "22/10/10 23:23:13 WARN DAGScheduler: Broadcasting large task binary with size 2.2 MiB\n",
      "22/10/10 23:23:13 WARN DAGScheduler: Broadcasting large task binary with size 1616.3 KiB\n",
      "22/10/10 23:23:17 WARN DAGScheduler: Broadcasting large task binary with size 1245.0 KiB\n",
      "22/10/10 23:23:17 WARN DAGScheduler: Broadcasting large task binary with size 1662.9 KiB\n",
      "22/10/10 23:23:18 WARN DAGScheduler: Broadcasting large task binary with size 2.0 MiB\n",
      "22/10/10 23:23:18 WARN DAGScheduler: Broadcasting large task binary with size 1532.2 KiB\n",
      "22/10/10 23:23:36 WARN DAGScheduler: Broadcasting large task binary with size 1095.4 KiB\n"
     ]
    },
    {
     "name": "stderr",
     "output_type": "stream",
     "text": [
      "                                                                                \r"
     ]
    },
    {
     "name": "stdout",
     "output_type": "stream",
     "text": [
      "22/10/10 23:23:39 WARN DAGScheduler: Broadcasting large task binary with size 1402.4 KiB\n",
      "22/10/10 23:23:39 WARN DAGScheduler: Broadcasting large task binary with size 1969.7 KiB\n",
      "22/10/10 23:23:40 WARN DAGScheduler: Broadcasting large task binary with size 2.5 MiB\n",
      "22/10/10 23:23:40 WARN DAGScheduler: Broadcasting large task binary with size 1793.1 KiB\n",
      "22/10/10 23:23:44 WARN DAGScheduler: Broadcasting large task binary with size 1284.9 KiB\n",
      "22/10/10 23:23:45 WARN DAGScheduler: Broadcasting large task binary with size 1746.8 KiB\n",
      "22/10/10 23:23:45 WARN DAGScheduler: Broadcasting large task binary with size 2.2 MiB\n",
      "22/10/10 23:23:46 WARN DAGScheduler: Broadcasting large task binary with size 1615.2 KiB\n",
      "22/10/10 23:23:50 WARN DAGScheduler: Broadcasting large task binary with size 1248.3 KiB\n",
      "22/10/10 23:23:50 WARN DAGScheduler: Broadcasting large task binary with size 1666.7 KiB\n",
      "22/10/10 23:23:51 WARN DAGScheduler: Broadcasting large task binary with size 2.0 MiB\n",
      "22/10/10 23:23:51 WARN DAGScheduler: Broadcasting large task binary with size 1539.4 KiB\n",
      "22/10/10 23:24:08 WARN DAGScheduler: Broadcasting large task binary with size 1093.1 KiB\n",
      "22/10/10 23:24:10 WARN DAGScheduler: Broadcasting large task binary with size 1362.6 KiB\n",
      "22/10/10 23:24:10 WARN DAGScheduler: Broadcasting large task binary with size 1902.1 KiB\n",
      "22/10/10 23:24:11 WARN DAGScheduler: Broadcasting large task binary with size 2.4 MiB\n",
      "22/10/10 23:24:11 WARN DAGScheduler: Broadcasting large task binary with size 1747.4 KiB\n",
      "22/10/10 23:24:15 WARN DAGScheduler: Broadcasting large task binary with size 1286.4 KiB\n",
      "22/10/10 23:24:15 WARN DAGScheduler: Broadcasting large task binary with size 1751.2 KiB\n",
      "22/10/10 23:24:16 WARN DAGScheduler: Broadcasting large task binary with size 2.2 MiB\n",
      "22/10/10 23:24:16 WARN DAGScheduler: Broadcasting large task binary with size 1609.7 KiB\n",
      "22/10/10 23:24:20 WARN DAGScheduler: Broadcasting large task binary with size 1230.9 KiB\n",
      "22/10/10 23:24:20 WARN DAGScheduler: Broadcasting large task binary with size 1653.8 KiB\n",
      "22/10/10 23:24:21 WARN DAGScheduler: Broadcasting large task binary with size 2.0 MiB\n",
      "22/10/10 23:24:21 WARN DAGScheduler: Broadcasting large task binary with size 1529.5 KiB\n",
      "22/10/10 23:24:33 WARN DAGScheduler: Broadcasting large task binary with size 1112.4 KiB\n",
      "22/10/10 23:24:34 WARN DAGScheduler: Broadcasting large task binary with size 1396.0 KiB\n",
      "22/10/10 23:24:34 WARN DAGScheduler: Broadcasting large task binary with size 1956.9 KiB\n",
      "22/10/10 23:24:35 WARN DAGScheduler: Broadcasting large task binary with size 2.5 MiB\n",
      "22/10/10 23:24:35 WARN DAGScheduler: Broadcasting large task binary with size 1792.9 KiB\n",
      "22/10/10 23:24:39 WARN DAGScheduler: Broadcasting large task binary with size 1281.1 KiB\n",
      "22/10/10 23:24:39 WARN DAGScheduler: Broadcasting large task binary with size 1742.1 KiB\n",
      "22/10/10 23:24:39 WARN DAGScheduler: Broadcasting large task binary with size 2.2 MiB\n",
      "22/10/10 23:24:40 WARN DAGScheduler: Broadcasting large task binary with size 1626.2 KiB\n",
      "22/10/10 23:24:44 WARN DAGScheduler: Broadcasting large task binary with size 1220.6 KiB\n",
      "22/10/10 23:24:44 WARN DAGScheduler: Broadcasting large task binary with size 1629.4 KiB\n",
      "22/10/10 23:24:44 WARN DAGScheduler: Broadcasting large task binary with size 2037.1 KiB\n",
      "22/10/10 23:24:45 WARN DAGScheduler: Broadcasting large task binary with size 1515.6 KiB\n",
      "22/10/10 23:24:58 WARN DAGScheduler: Broadcasting large task binary with size 1106.6 KiB\n",
      "22/10/10 23:25:00 WARN DAGScheduler: Broadcasting large task binary with size 1419.7 KiB\n",
      "22/10/10 23:25:01 WARN DAGScheduler: Broadcasting large task binary with size 1989.3 KiB\n",
      "22/10/10 23:25:01 WARN DAGScheduler: Broadcasting large task binary with size 2.5 MiB\n",
      "22/10/10 23:25:02 WARN DAGScheduler: Broadcasting large task binary with size 1811.3 KiB\n",
      "22/10/10 23:25:07 WARN DAGScheduler: Broadcasting large task binary with size 1304.9 KiB\n",
      "22/10/10 23:25:08 WARN DAGScheduler: Broadcasting large task binary with size 1784.9 KiB\n",
      "22/10/10 23:25:08 WARN DAGScheduler: Broadcasting large task binary with size 2.2 MiB\n",
      "22/10/10 23:25:09 WARN DAGScheduler: Broadcasting large task binary with size 1645.5 KiB\n",
      "22/10/10 23:25:12 WARN DAGScheduler: Broadcasting large task binary with size 1241.5 KiB\n",
      "22/10/10 23:25:12 WARN DAGScheduler: Broadcasting large task binary with size 1657.3 KiB\n",
      "22/10/10 23:25:13 WARN DAGScheduler: Broadcasting large task binary with size 2.0 MiB\n",
      "22/10/10 23:25:13 WARN DAGScheduler: Broadcasting large task binary with size 1529.4 KiB\n"
     ]
    },
    {
     "name": "stderr",
     "output_type": "stream",
     "text": [
      "                                                                                \r"
     ]
    },
    {
     "name": "stdout",
     "output_type": "stream",
     "text": [
      "22/10/10 23:25:18 WARN DAGScheduler: Broadcasting large task binary with size 1284.8 KiB\n",
      "22/10/10 23:25:18 WARN DAGScheduler: Broadcasting large task binary with size 1753.9 KiB\n",
      "22/10/10 23:25:19 WARN DAGScheduler: Broadcasting large task binary with size 2.2 MiB\n",
      "CrossValidatorModel_43c88336df27\n"
     ]
    }
   ],
   "source": [
    "from pyspark.ml.regression import RandomForestRegressor\n",
    "from pyspark.ml.tuning import ParamGridBuilder, CrossValidator\n",
    "from pyspark.ml.evaluation import RegressionEvaluator\n",
    "\n",
    "rf = RandomForestClassifier(labelCol=\"labelIndex\", featuresCol=\"transformedFeatures\")\n",
    "\n",
    "# Evaluate model\n",
    "rfevaluator = MulticlassClassificationEvaluator(predictionCol=\"prediction\", labelCol=\"labelIndex\", metricName=\"accuracy\")\n",
    "\n",
    "# Create ParamGrid for Cross Validation\n",
    "rfparamGrid = (ParamGridBuilder()\n",
    "               .addGrid(rf.maxDepth, [2, 5, 10])\n",
    "               .addGrid(rf.maxBins, [5, 10, 20])\n",
    "               .addGrid(rf.numTrees, [5, 20, 50])\n",
    "             .build())\n",
    "\n",
    "# Create 5-fold CrossValidator\n",
    "rfcv = CrossValidator(estimator = rf,\n",
    "                      estimatorParamMaps = rfparamGrid,\n",
    "                      evaluator = rfevaluator,\n",
    "                      numFolds = 5)\n",
    "\n",
    "# Run cross validations.\n",
    "rfcvModel = rfcv.fit(train)\n",
    "print(rfcvModel)"
   ]
  },
  {
   "cell_type": "code",
   "execution_count": 58,
   "id": "8753064d-7809-4dd6-9229-ae97e5216cad",
   "metadata": {},
   "outputs": [
    {
     "data": {
      "text/plain": [
       "{Param(parent='RandomForestClassifier_7926ab172fe9', name='bootstrap', doc='Whether bootstrap samples are used when building trees.'): True,\n",
       " Param(parent='RandomForestClassifier_7926ab172fe9', name='cacheNodeIds', doc='If false, the algorithm will pass trees to executors to match instances with nodes. If true, the algorithm will cache node IDs for each instance. Caching can speed up training of deeper trees. Users can set how often should the cache be checkpointed or disable it by setting checkpointInterval.'): False,\n",
       " Param(parent='RandomForestClassifier_7926ab172fe9', name='checkpointInterval', doc='set checkpoint interval (>= 1) or disable checkpoint (-1). E.g. 10 means that the cache will get checkpointed every 10 iterations. Note: this setting will be ignored if the checkpoint directory is not set in the SparkContext.'): 10,\n",
       " Param(parent='RandomForestClassifier_7926ab172fe9', name='featureSubsetStrategy', doc=\"The number of features to consider for splits at each tree node. Supported options: 'auto' (choose automatically for task: If numTrees == 1, set to 'all'. If numTrees > 1 (forest), set to 'sqrt' for classification and to 'onethird' for regression), 'all' (use all features), 'onethird' (use 1/3 of the features), 'sqrt' (use sqrt(number of features)), 'log2' (use log2(number of features)), 'n' (when n is in the range (0, 1.0], use n * number of features. When n is in the range (1, number of features), use n features). default = 'auto'\"): 'auto',\n",
       " Param(parent='RandomForestClassifier_7926ab172fe9', name='featuresCol', doc='features column name.'): 'transformedFeatures',\n",
       " Param(parent='RandomForestClassifier_7926ab172fe9', name='impurity', doc='Criterion used for information gain calculation (case-insensitive). Supported options: entropy, gini'): 'gini',\n",
       " Param(parent='RandomForestClassifier_7926ab172fe9', name='labelCol', doc='label column name.'): 'labelIndex',\n",
       " Param(parent='RandomForestClassifier_7926ab172fe9', name='leafCol', doc='Leaf indices column name. Predicted leaf index of each instance in each tree by preorder.'): '',\n",
       " Param(parent='RandomForestClassifier_7926ab172fe9', name='maxBins', doc='Max number of bins for discretizing continuous features.  Must be >=2 and >= number of categories for any categorical feature.'): 20,\n",
       " Param(parent='RandomForestClassifier_7926ab172fe9', name='maxDepth', doc='Maximum depth of the tree. (>= 0) E.g., depth 0 means 1 leaf node; depth 1 means 1 internal node + 2 leaf nodes. Must be in range [0, 30].'): 10,\n",
       " Param(parent='RandomForestClassifier_7926ab172fe9', name='maxMemoryInMB', doc='Maximum memory in MB allocated to histogram aggregation. If too small, then 1 node will be split per iteration, and its aggregates may exceed this size.'): 256,\n",
       " Param(parent='RandomForestClassifier_7926ab172fe9', name='minInfoGain', doc='Minimum information gain for a split to be considered at a tree node.'): 0.0,\n",
       " Param(parent='RandomForestClassifier_7926ab172fe9', name='minInstancesPerNode', doc='Minimum number of instances each child must have after split. If a split causes the left or right child to have fewer than minInstancesPerNode, the split will be discarded as invalid. Should be >= 1.'): 1,\n",
       " Param(parent='RandomForestClassifier_7926ab172fe9', name='minWeightFractionPerNode', doc='Minimum fraction of the weighted sample count that each child must have after split. If a split causes the fraction of the total weight in the left or right child to be less than minWeightFractionPerNode, the split will be discarded as invalid. Should be in interval [0.0, 0.5).'): 0.0,\n",
       " Param(parent='RandomForestClassifier_7926ab172fe9', name='numTrees', doc='Number of trees to train (>= 1).'): 50,\n",
       " Param(parent='RandomForestClassifier_7926ab172fe9', name='predictionCol', doc='prediction column name.'): 'prediction',\n",
       " Param(parent='RandomForestClassifier_7926ab172fe9', name='probabilityCol', doc='Column name for predicted class conditional probabilities. Note: Not all models output well-calibrated probability estimates! These probabilities should be treated as confidences, not precise probabilities.'): 'probability',\n",
       " Param(parent='RandomForestClassifier_7926ab172fe9', name='rawPredictionCol', doc='raw prediction (a.k.a. confidence) column name.'): 'rawPrediction',\n",
       " Param(parent='RandomForestClassifier_7926ab172fe9', name='seed', doc='random seed.'): 3904309337063808474,\n",
       " Param(parent='RandomForestClassifier_7926ab172fe9', name='subsamplingRate', doc='Fraction of the training data used for learning each decision tree, in range (0, 1].'): 1.0}"
      ]
     },
     "execution_count": 58,
     "metadata": {},
     "output_type": "execute_result"
    }
   ],
   "source": [
    "rfcvModel.bestModel.extractParamMap()"
   ]
  },
  {
   "cell_type": "code",
   "execution_count": 59,
   "id": "679d9ea6-efce-4acd-8495-8a631858753b",
   "metadata": {},
   "outputs": [
    {
     "name": "stdout",
     "output_type": "stream",
     "text": [
      "RandomForestClassificationModel: uid=RandomForestClassifier_7926ab172fe9, numTrees=50, numClasses=3, numFeatures=11\n"
     ]
    }
   ],
   "source": [
    "print(rfcvModel.bestModel)"
   ]
  },
  {
   "cell_type": "code",
   "execution_count": 44,
   "id": "f7552e62-1a03-44b5-9f5a-5c5965ad9de3",
   "metadata": {},
   "outputs": [
    {
     "name": "stdout",
     "output_type": "stream",
     "text": [
      "22/10/10 23:25:21 WARN DAGScheduler: Broadcasting large task binary with size 1634.3 KiB\n",
      "Accuracy: 0.918918918918919\n"
     ]
    }
   ],
   "source": [
    "# Use test set here so we can measure the accuracy of our model on new data\n",
    "rfpredictions = rfcvModel.transform(test)\n",
    "\n",
    "# cvModel uses the best model found from the Cross Validation\n",
    "# Evaluate best model\n",
    "print('Accuracy:', rfevaluator.evaluate(rfpredictions))"
   ]
  },
  {
   "cell_type": "code",
   "execution_count": 65,
   "id": "e117fba5-583c-4cd6-87de-5028e112f892",
   "metadata": {},
   "outputs": [
    {
     "name": "stdout",
     "output_type": "stream",
     "text": [
      "22/10/11 21:39:54 WARN DAGScheduler: Broadcasting large task binary with size 1620.1 KiB\n",
      "22/10/11 21:39:54 WARN DAGScheduler: Broadcasting large task binary with size 1621.3 KiB\n",
      "22/10/11 21:39:54 WARN DAGScheduler: Broadcasting large task binary with size 1591.8 KiB\n",
      "22/10/11 21:39:54 WARN DAGScheduler: Broadcasting large task binary with size 1601.3 KiB\n",
      "[[344.  20.  42.]\n",
      " [ 12. 374.   1.]\n",
      " [ 21.   0. 370.]]\n"
     ]
    }
   ],
   "source": [
    "from pyspark.mllib.evaluation import MulticlassMetrics\n",
    "from pyspark.sql.types import FloatType\n",
    "import pyspark.sql.functions as F\n",
    "\n",
    "preds_and_labels = rfpredictions.select(['prediction','labelIndex']).withColumn('labelIndex', F.col('labelIndex').cast(FloatType())).orderBy('prediction')\n",
    "preds_and_labels = preds_and_labels.select(['prediction','labelIndex'])\n",
    "metrics = MulticlassMetrics(preds_and_labels.rdd.map(tuple))\n",
    "print(metrics.confusionMatrix().toArray())"
   ]
  },
  {
   "cell_type": "code",
   "execution_count": 67,
   "id": "563bd3ea-4ddb-4280-a4f7-63e53868e6de",
   "metadata": {},
   "outputs": [
    {
     "name": "stdout",
     "output_type": "stream",
     "text": [
      "22/10/11 21:50:37 WARN DAGScheduler: Broadcasting large task binary with size 1586.8 KiB\n"
     ]
    },
    {
     "data": {
      "text/html": [
       "<div>\n",
       "<style scoped>\n",
       "    .dataframe tbody tr th:only-of-type {\n",
       "        vertical-align: middle;\n",
       "    }\n",
       "\n",
       "    .dataframe tbody tr th {\n",
       "        vertical-align: top;\n",
       "    }\n",
       "\n",
       "    .dataframe thead th {\n",
       "        text-align: right;\n",
       "    }\n",
       "</style>\n",
       "<table border=\"1\" class=\"dataframe\">\n",
       "  <thead>\n",
       "    <tr style=\"text-align: right;\">\n",
       "      <th></th>\n",
       "      <th>prediction</th>\n",
       "      <th>labelIndex</th>\n",
       "    </tr>\n",
       "  </thead>\n",
       "  <tbody>\n",
       "    <tr>\n",
       "      <th>0</th>\n",
       "      <td>0.0</td>\n",
       "      <td>0.0</td>\n",
       "    </tr>\n",
       "    <tr>\n",
       "      <th>1</th>\n",
       "      <td>0.0</td>\n",
       "      <td>0.0</td>\n",
       "    </tr>\n",
       "    <tr>\n",
       "      <th>2</th>\n",
       "      <td>0.0</td>\n",
       "      <td>0.0</td>\n",
       "    </tr>\n",
       "    <tr>\n",
       "      <th>3</th>\n",
       "      <td>0.0</td>\n",
       "      <td>2.0</td>\n",
       "    </tr>\n",
       "    <tr>\n",
       "      <th>4</th>\n",
       "      <td>0.0</td>\n",
       "      <td>0.0</td>\n",
       "    </tr>\n",
       "    <tr>\n",
       "      <th>...</th>\n",
       "      <td>...</td>\n",
       "      <td>...</td>\n",
       "    </tr>\n",
       "    <tr>\n",
       "      <th>1179</th>\n",
       "      <td>2.0</td>\n",
       "      <td>2.0</td>\n",
       "    </tr>\n",
       "    <tr>\n",
       "      <th>1180</th>\n",
       "      <td>2.0</td>\n",
       "      <td>2.0</td>\n",
       "    </tr>\n",
       "    <tr>\n",
       "      <th>1181</th>\n",
       "      <td>2.0</td>\n",
       "      <td>2.0</td>\n",
       "    </tr>\n",
       "    <tr>\n",
       "      <th>1182</th>\n",
       "      <td>2.0</td>\n",
       "      <td>2.0</td>\n",
       "    </tr>\n",
       "    <tr>\n",
       "      <th>1183</th>\n",
       "      <td>2.0</td>\n",
       "      <td>2.0</td>\n",
       "    </tr>\n",
       "  </tbody>\n",
       "</table>\n",
       "<p>1184 rows × 2 columns</p>\n",
       "</div>"
      ],
      "text/plain": [
       "      prediction  labelIndex\n",
       "0            0.0         0.0\n",
       "1            0.0         0.0\n",
       "2            0.0         0.0\n",
       "3            0.0         2.0\n",
       "4            0.0         0.0\n",
       "...          ...         ...\n",
       "1179         2.0         2.0\n",
       "1180         2.0         2.0\n",
       "1181         2.0         2.0\n",
       "1182         2.0         2.0\n",
       "1183         2.0         2.0\n",
       "\n",
       "[1184 rows x 2 columns]"
      ]
     },
     "execution_count": 67,
     "metadata": {},
     "output_type": "execute_result"
    }
   ],
   "source": [
    "preds_and_labels.toPandas()"
   ]
  },
  {
   "cell_type": "code",
   "execution_count": 70,
   "id": "683c40da-9d4c-4886-98e8-313364ce288b",
   "metadata": {},
   "outputs": [
    {
     "name": "stdout",
     "output_type": "stream",
     "text": [
      "22/10/11 21:52:20 WARN DAGScheduler: Broadcasting large task binary with size 1586.8 KiB\n",
      "22/10/11 21:52:20 WARN DAGScheduler: Broadcasting large task binary with size 1586.8 KiB\n",
      "              precision    recall  f1-score   support\n",
      "\n",
      "         0.0       0.85      0.91      0.88       377\n",
      "         1.0       0.97      0.95      0.96       394\n",
      "         2.0       0.95      0.90      0.92       413\n",
      "\n",
      "    accuracy                           0.92      1184\n",
      "   macro avg       0.92      0.92      0.92      1184\n",
      "weighted avg       0.92      0.92      0.92      1184\n",
      "\n"
     ]
    }
   ],
   "source": [
    "from sklearn.metrics import classification_report\n",
    "print(classification_report(preds_and_labels.toPandas()['prediction'], preds_and_labels.toPandas()['labelIndex']))"
   ]
  },
  {
   "cell_type": "code",
   "execution_count": null,
   "id": "c52d1442-c740-4959-a1fe-072cf841634d",
   "metadata": {},
   "outputs": [],
   "source": []
  }
 ],
 "metadata": {
  "kernelspec": {
   "display_name": "Python 3 (ipykernel)",
   "language": "python",
   "name": "python3"
  },
  "language_info": {
   "codemirror_mode": {
    "name": "ipython",
    "version": 3
   },
   "file_extension": ".py",
   "mimetype": "text/x-python",
   "name": "python",
   "nbconvert_exporter": "python",
   "pygments_lexer": "ipython3",
   "version": "3.9.12"
  }
 },
 "nbformat": 4,
 "nbformat_minor": 5
}
